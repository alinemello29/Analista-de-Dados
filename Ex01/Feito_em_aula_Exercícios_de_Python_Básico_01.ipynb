{
  "nbformat": 4,
  "nbformat_minor": 0,
  "metadata": {
    "colab": {
      "provenance": []
    },
    "kernelspec": {
      "name": "python3",
      "display_name": "Python 3"
    },
    "language_info": {
      "name": "python"
    }
  },
  "cells": [
    {
      "cell_type": "markdown",
      "source": [
        "# 1 - Variáveis e Tipos de Dados"
      ],
      "metadata": {
        "id": "uxGISqtR2yNT"
      }
    },
    {
      "cell_type": "code",
      "execution_count": null,
      "metadata": {
        "id": "tLS0FEGj2rS7",
        "colab": {
          "base_uri": "https://localhost:8080/"
        },
        "outputId": "0d2e5478-b166-4cd9-f48d-e3c861b51ec4"
      },
      "outputs": [
        {
          "output_type": "stream",
          "name": "stdout",
          "text": [
            "Douglas\n",
            "<class 'str'>\n",
            "48\n",
            "<class 'int'>\n",
            "87\n",
            "<class 'int'>\n",
            "1.85\n",
            "<class 'float'>\n"
          ]
        }
      ],
      "source": [
        "'''\n",
        "1.1. Crie variáveis para armazenar o nome, idade, peso e altura de uma pessoa.\n",
        "Imprima os valores e os tipos de dados dessas variáveis.\n",
        "'''\n",
        "nome = 'Douglas'\n",
        "print(nome)\n",
        "print(type(nome))\n",
        "idade = 48\n",
        "print(idade)\n",
        "print(type(idade))\n",
        "peso = 87\n",
        "print(peso)\n",
        "print(type(peso))\n",
        "altura = 1.85\n",
        "print(altura)\n",
        "print(type(altura))"
      ]
    },
    {
      "cell_type": "code",
      "source": [
        "'''\n",
        "1.2. Atualize a variável de peso para um valor diferente e imprima o novo valor.\n",
        "'''\n",
        "peso = 86\n",
        "print(peso)"
      ],
      "metadata": {
        "id": "VFVgrodF27TT",
        "colab": {
          "base_uri": "https://localhost:8080/"
        },
        "outputId": "32937a21-f34a-4c7f-8c7f-2fd68def452d"
      },
      "execution_count": null,
      "outputs": [
        {
          "output_type": "stream",
          "name": "stdout",
          "text": [
            "86\n"
          ]
        }
      ]
    },
    {
      "cell_type": "markdown",
      "source": [
        "# 2 - Operadores Matemáticos"
      ],
      "metadata": {
        "id": "RRRbkSkr3Ajw"
      }
    },
    {
      "cell_type": "code",
      "source": [
        "'''\n",
        "2.1. Crie uma variável a com valor 10 e uma variável b com valor 3. Realize as\n",
        "seguintes operações e imprima os resultados:\n",
        "Soma\n",
        "Subtração\n",
        "Multiplicação\n",
        "Divisão\n",
        "Parte inteira da divisão\n",
        "Resto da divisão\n",
        "Exponenciação\n",
        "'''\n",
        "a = 10\n",
        "b = 3\n",
        "soma  = a + b\n",
        "print(soma)\n",
        "sub = a - b\n",
        "print(sub)\n",
        "mult =  a * b\n",
        "print(mult)\n",
        "div = a / b\n",
        "print(div)\n",
        "intdiv = a // b\n",
        "print(intdiv)\n",
        "resto = a % b\n",
        "print(resto)\n",
        "potencia = a ** b\n",
        "print(potencia)"
      ],
      "metadata": {
        "id": "hHAztIDU3AJP",
        "colab": {
          "base_uri": "https://localhost:8080/"
        },
        "outputId": "7301f1eb-91dd-4b58-f96d-838052d366ce"
      },
      "execution_count": null,
      "outputs": [
        {
          "output_type": "stream",
          "name": "stdout",
          "text": [
            "13\n",
            "7\n",
            "30\n",
            "3.3333333333333335\n",
            "3\n",
            "1\n",
            "1000\n"
          ]
        }
      ]
    },
    {
      "cell_type": "markdown",
      "source": [
        "# 3 - Entrada de Dados pelo Usuário\n"
      ],
      "metadata": {
        "id": "jWJt5Ep23OFd"
      }
    },
    {
      "cell_type": "code",
      "source": [
        "'''\n",
        "3.1. Peça ao usuário para digitar seu nome e armazene em uma variável. Imprima\n",
        "uma mensagem de boas-vindas usando o nome fornecido.\n",
        "'''\n",
        "nome = input('Informe seu nome: ')\n",
        "print(f'Seja bem-vindo: {nome}!')"
      ],
      "metadata": {
        "id": "IiD6jUJh3eiD",
        "colab": {
          "base_uri": "https://localhost:8080/"
        },
        "outputId": "0f2fddc2-968d-47a3-87d8-0b243300d882"
      },
      "execution_count": null,
      "outputs": [
        {
          "output_type": "stream",
          "name": "stdout",
          "text": [
            "Informe seu nome: Douglas de Almeida Ribeiro\n",
            "Seja bem-vindo: Douglas de Almeida Ribeiro!\n"
          ]
        }
      ]
    },
    {
      "cell_type": "code",
      "source": [
        "'''\n",
        "3.2. Peça ao usuário para digitar sua idade, peso e altura. Calcule o IMC e\n",
        "imprima o resultado arredondado para três casas decimais.\n",
        "'''\n",
        "idade = float(input('Informe sua idade: '))\n",
        "peso = float(input('Informe seu peso: '))\n",
        "altura = float(input('Informe sua altura: '))\n",
        "imc = peso / altura ** 2\n",
        "print(f'O IMC é {imc:.3f}')"
      ],
      "metadata": {
        "id": "Y4kz72aR3k8d",
        "colab": {
          "base_uri": "https://localhost:8080/"
        },
        "outputId": "ed43eb03-76b5-4b24-b549-04c328167210"
      },
      "execution_count": null,
      "outputs": [
        {
          "output_type": "stream",
          "name": "stdout",
          "text": [
            "Informe sua idade: 48\n",
            "Informe seu peso: 87\n",
            "Informe sua altura: 1.85\n",
            "O IMC é 25.420\n"
          ]
        }
      ]
    },
    {
      "cell_type": "code",
      "source": [
        "# Método Alternativo\n",
        "'''\n",
        "3.2. Peça ao usuário para digitar sua idade, peso e altura. Calcule o IMC e\n",
        "imprima o resultado arredondado para três casas decimais.\n",
        "'''\n",
        "dados = input('Informe sua idade, peso e altura separados por espaços: ')\n",
        "dados = dados.split()\n",
        "for i in range(len(dados)):\n",
        "  dados[i] = float(dados[i])\n",
        "imc = dados[1]/dados[2]**2\n",
        "print(f'O IMC é {imc:.3f}')"
      ],
      "metadata": {
        "colab": {
          "base_uri": "https://localhost:8080/"
        },
        "id": "PrhJpkQVXU-V",
        "outputId": "bf6bad54-bfb3-4c28-a85f-d7aaa1b2e442"
      },
      "execution_count": null,
      "outputs": [
        {
          "output_type": "stream",
          "name": "stdout",
          "text": [
            "Informe sua idade, peso e altura separados por espaços: 48 87 1.85\n",
            "O IMC é 25.420\n"
          ]
        }
      ]
    },
    {
      "cell_type": "markdown",
      "source": [
        "# 4 - Função de Impressão"
      ],
      "metadata": {
        "id": "zqRV3Plv3pjL"
      }
    },
    {
      "cell_type": "code",
      "source": [
        "'''\n",
        "4.1. Peça ao usuário para digitar um número e imprima o número digitado.\n",
        "'''\n",
        "n = float(input('Informe um número: '))\n",
        "print(n)"
      ],
      "metadata": {
        "id": "N5AbRV3i3vYV",
        "colab": {
          "base_uri": "https://localhost:8080/"
        },
        "outputId": "ee5956e6-0be8-43b7-89dd-f65d782b9984"
      },
      "execution_count": null,
      "outputs": [
        {
          "output_type": "stream",
          "name": "stdout",
          "text": [
            "Informe um número: 10\n",
            "10.0\n"
          ]
        }
      ]
    },
    {
      "cell_type": "code",
      "source": [
        "'''\n",
        "4.2. Peça ao usuário para digitar dois números e imprima a soma deles.\n",
        "'''\n",
        "n1 = float(input('Informe um número: '))\n",
        "n2 = float(input('Informe outro número: '))\n",
        "print(f'A soma dos números informados é {n1+n2}')"
      ],
      "metadata": {
        "id": "qM2ocOFl3vpB",
        "colab": {
          "base_uri": "https://localhost:8080/"
        },
        "outputId": "512b226b-347d-434f-b751-461744bdfd5f"
      },
      "execution_count": null,
      "outputs": [
        {
          "output_type": "stream",
          "name": "stdout",
          "text": [
            "Informe um número: 10\n",
            "Informe outro número: 8\n",
            "A soma dos números informados é 18.0\n"
          ]
        }
      ]
    },
    {
      "cell_type": "code",
      "source": [
        "# Método alternativo\n",
        "'''\n",
        "4.2. Peça ao usuário para digitar dois números e imprima a soma deles.\n",
        "'''\n",
        "ns = input('Informe dois números separados por espaços: ')\n",
        "ns = ns.split()\n",
        "for i in range(len(ns)):\n",
        "  ns[i] = float(ns[i])\n",
        "print(f'A soma dos números informados é {sum(ns)}')"
      ],
      "metadata": {
        "colab": {
          "base_uri": "https://localhost:8080/"
        },
        "id": "YtaigxxGasPs",
        "outputId": "fc276e5b-a4ff-4581-abd8-d2ba82d83cc7"
      },
      "execution_count": null,
      "outputs": [
        {
          "output_type": "stream",
          "name": "stdout",
          "text": [
            "Informe dois números separados por espaços: 10 8\n",
            "A soma dos números informados é 18.0\n"
          ]
        }
      ]
    },
    {
      "cell_type": "markdown",
      "source": [
        "# 5 - Métodos de Strings"
      ],
      "metadata": {
        "id": "RWwlLaOu35jq"
      }
    },
    {
      "cell_type": "code",
      "source": [
        "'''\n",
        "5.1. Peça ao usuário para digitar um e-mail e verifique se o e-mail contém o\n",
        "caractere '@'. Imprima uma mensagem indicando se é um e-mail válido ou não.\n",
        "'''\n",
        "email = input('Informe seu endereço de e-mail: ')\n",
        "if '@' in email:\n",
        "  print(f'{email} é válido!')\n",
        "else:\n",
        "  print(f'{email} não é válido!')"
      ],
      "metadata": {
        "id": "PnAPaeXY3-dA",
        "colab": {
          "base_uri": "https://localhost:8080/"
        },
        "outputId": "27793988-a783-4817-b07c-7e1932f7e68a"
      },
      "execution_count": null,
      "outputs": [
        {
          "output_type": "stream",
          "name": "stdout",
          "text": [
            "Informe seu endereço de e-mail: douggmail.com\n",
            "douggmail.com não é válido!\n"
          ]
        }
      ]
    },
    {
      "cell_type": "code",
      "source": [
        "'''\n",
        "5.2. Peça ao usuário para digitar uma frase e:\n",
        "Converta a frase para maiúsculas.\n",
        "Converta a frase para minúsculas.\n",
        "Converta a primeira letra de cada palavra para maiúscula.\n",
        "Verifique se a frase começa com uma determinada palavra (ex.: 'Olá').\n",
        "'''\n",
        "frase = input('Informe uma frase: ')\n",
        "frase = frase.upper()\n",
        "print(frase)\n",
        "frase = frase.lower()\n",
        "print(frase)\n",
        "frase = frase.title()\n",
        "print(frase)\n",
        "frase.startswith('Olá')"
      ],
      "metadata": {
        "id": "nkwe0I9c3-w-",
        "colab": {
          "base_uri": "https://localhost:8080/"
        },
        "outputId": "11f779ce-9f3c-47b4-a33e-2b974f6f97d3"
      },
      "execution_count": null,
      "outputs": [
        {
          "output_type": "stream",
          "name": "stdout",
          "text": [
            "Informe uma frase: The book is on the table\n",
            "THE BOOK IS ON THE TABLE\n",
            "the book is on the table\n",
            "The Book Is On The Table\n"
          ]
        },
        {
          "output_type": "execute_result",
          "data": {
            "text/plain": [
              "False"
            ]
          },
          "metadata": {},
          "execution_count": 15
        }
      ]
    },
    {
      "cell_type": "markdown",
      "source": [
        "# 6 - Listas"
      ],
      "metadata": {
        "id": "HZQlB-8K4snX"
      }
    },
    {
      "cell_type": "code",
      "source": [
        "'''\n",
        "6.1. Crie uma lista com os nomes de cinco amigos. Imprima o nome do terceiro\n",
        "amigo na lista.\n",
        "'''\n",
        "amigos = ['Leandro', 'Leonardo', 'Chitãozinho', 'Xororó', 'Zezé']\n",
        "print(amigos[2])"
      ],
      "metadata": {
        "id": "3_3JLvXZ4sBG",
        "colab": {
          "base_uri": "https://localhost:8080/"
        },
        "outputId": "e4e55f9b-e52c-4c23-e4d8-7bf817703068"
      },
      "execution_count": null,
      "outputs": [
        {
          "output_type": "stream",
          "name": "stdout",
          "text": [
            "Chitãozinho\n"
          ]
        }
      ]
    },
    {
      "cell_type": "code",
      "source": [
        "'''\n",
        "6.2. Adicione um novo nome à lista de amigos e remova o primeiro nome.\n",
        "Imprima a lista atualizada.\n",
        "'''\n",
        "amigos.append('Luciano')\n",
        "print(amigos)\n",
        "amigos.pop(0)\n",
        "print(amigos)"
      ],
      "metadata": {
        "id": "ppcjLqMb4yDu",
        "colab": {
          "base_uri": "https://localhost:8080/"
        },
        "outputId": "a853fe5e-9b43-4540-d959-c8ed54733c1b"
      },
      "execution_count": null,
      "outputs": [
        {
          "output_type": "stream",
          "name": "stdout",
          "text": [
            "['Leandro', 'Leonardo', 'Chitãozinho', 'Xororó', 'Zezé', 'Luciano']\n",
            "['Leonardo', 'Chitãozinho', 'Xororó', 'Zezé', 'Luciano']\n"
          ]
        }
      ]
    },
    {
      "cell_type": "code",
      "source": [
        "amigos[0] = 'Luciano'"
      ],
      "metadata": {
        "id": "NgrkR8pfjE4C"
      },
      "execution_count": null,
      "outputs": []
    },
    {
      "cell_type": "code",
      "source": [
        "'''\n",
        "6.3. Crie uma lista com as idades dos seus amigos e:\n",
        "Imprima a idade do amigo mais velho.\n",
        "Imprima a idade do amigo mais novo.\n",
        "Calcule e imprima a soma das idades.\n",
        "'''\n",
        "idades = [61, 62, 70, 71, 65]\n",
        "print(f'A idade do mais velho é {max(idades)} anos')\n",
        "print(f'A idade do mais novo é {min(idades)} anos ')\n",
        "print(f'A soma das idades é {sum(idades)} anos')"
      ],
      "metadata": {
        "id": "Hoz7RcUW4zc4",
        "colab": {
          "base_uri": "https://localhost:8080/"
        },
        "outputId": "7abfd68c-a8f0-4d50-fca7-faaf949040c9"
      },
      "execution_count": null,
      "outputs": [
        {
          "output_type": "stream",
          "name": "stdout",
          "text": [
            "A idade do mais velho é 71 anos\n",
            "A idade do mais novo é 61 anos \n",
            "A soma das idades é 329 anos\n"
          ]
        }
      ]
    },
    {
      "cell_type": "markdown",
      "source": [
        "# 7 - Tuplas"
      ],
      "metadata": {
        "id": "9WTzsCNH4-tT"
      }
    },
    {
      "cell_type": "code",
      "source": [
        "'''\n",
        "7.1 Crie uma tupla com as informações de um cliente (nome, idade, peso, altura).\n",
        "Imprima todas as informações.\n",
        "'''\n",
        "cliente = ('Douglas', 48, 87, 1.85) # Criando uma tupla\n",
        "print(f'Nome: {cliente[0]}')\n",
        "print(f'Idade: {cliente[1]}')\n",
        "print(f'Peso: {cliente[2]}')\n",
        "print(f'Altura: {cliente[3]}')"
      ],
      "metadata": {
        "id": "XpWW7G-p5BOJ",
        "colab": {
          "base_uri": "https://localhost:8080/"
        },
        "outputId": "b7a871a8-e2ce-41e4-a278-be1c7abf03c9"
      },
      "execution_count": null,
      "outputs": [
        {
          "output_type": "stream",
          "name": "stdout",
          "text": [
            "Nome: Douglas\n",
            "Idade: 48\n",
            "Peso: 87\n",
            "Altura: 1.85\n"
          ]
        }
      ]
    },
    {
      "cell_type": "code",
      "source": [
        "'''\n",
        "7.2. Crie uma nova tupla concatenando a tupla do exercício anterior com o e-mail\n",
        "do cliente. Imprima a nova tupla.\n",
        "'''\n",
        "email = ('doug@gmail.com',)\n",
        "nova_tupla = cliente + email # Concatenando\n",
        "print(nova_tupla)"
      ],
      "metadata": {
        "id": "tIzWFwzc5GQ8",
        "colab": {
          "base_uri": "https://localhost:8080/"
        },
        "outputId": "5482a537-31b4-4712-f4f4-a45d9988d51d"
      },
      "execution_count": null,
      "outputs": [
        {
          "output_type": "stream",
          "name": "stdout",
          "text": [
            "('Douglas', 48, 87, 1.85, 'doug@gmail.com')\n"
          ]
        }
      ]
    },
    {
      "cell_type": "markdown",
      "source": [
        "# 8 - Dicionários"
      ],
      "metadata": {
        "id": "-zg06dPu5ZJC"
      }
    },
    {
      "cell_type": "code",
      "source": [
        "'''\n",
        "8.1. Crie um dicionário com informações de um cliente\n",
        "(nome, idade, peso, altura). Imprima o valor associado à chave 'nome'.\n",
        "'''\n",
        "cliente = {\n",
        "    'nome':'Douglas',\n",
        "    'idade': 48,\n",
        "    'peso':87,\n",
        "    'altura':1.85\n",
        "}\n",
        "print(cliente['nome'])"
      ],
      "metadata": {
        "id": "E_wd3pdX5clA",
        "colab": {
          "base_uri": "https://localhost:8080/"
        },
        "outputId": "8bee7e58-ed76-4dbf-b4ac-468d14f26b0f"
      },
      "execution_count": null,
      "outputs": [
        {
          "output_type": "stream",
          "name": "stdout",
          "text": [
            "Douglas\n"
          ]
        }
      ]
    },
    {
      "cell_type": "code",
      "source": [
        "'''\n",
        "8.2. Adicione uma nova chave 'email' ao dicionário do exercício anterior e\n",
        "imprima o dicionário atualizado.\n",
        "'''\n",
        "cliente['email'] = 'doug@gmail.com'\n",
        "print(cliente)"
      ],
      "metadata": {
        "id": "kM-tUW7o5eK7",
        "colab": {
          "base_uri": "https://localhost:8080/"
        },
        "outputId": "f2a4fad7-d76e-4662-db5b-e2f38a5654df"
      },
      "execution_count": null,
      "outputs": [
        {
          "output_type": "stream",
          "name": "stdout",
          "text": [
            "{'nome': 'Douglas', 'idade': 48, 'peso': 87, 'altura': 1.85, 'email': 'doug@gmail.com'}\n"
          ]
        }
      ]
    },
    {
      "cell_type": "code",
      "source": [
        "'''\n",
        "8.3. Remova a chave 'peso' do dicionário e verifique se a chave 'endereço' está\n",
        "no dicionário. Imprima os resultados.\n",
        "'''\n",
        "cliente.pop('peso')\n",
        "print(cliente)\n",
        "if 'endereço' in cliente:\n",
        "  print('A chave endereço está presente no cliente')\n",
        "else:\n",
        "  print('A chave endereço não está presente no cliente')"
      ],
      "metadata": {
        "id": "xFhFuFOV5ffs",
        "colab": {
          "base_uri": "https://localhost:8080/"
        },
        "outputId": "428eca07-edc7-4965-c22b-dd0dd886d695"
      },
      "execution_count": null,
      "outputs": [
        {
          "output_type": "stream",
          "name": "stdout",
          "text": [
            "{'nome': 'Douglas', 'idade': 48, 'altura': 1.85, 'email': 'doug@gmail.com'}\n",
            "A chave endereço não está presente no cliente\n"
          ]
        }
      ]
    },
    {
      "cell_type": "markdown",
      "source": [
        "# 9 - Controle de Fluxo"
      ],
      "metadata": {
        "id": "zDOsohbe5sjQ"
      }
    },
    {
      "cell_type": "code",
      "source": [
        "# Condicionais\n",
        "'''\n",
        "9.1. Peça ao usuário para digitar sua idade e verifique se ele é menor de idade,\n",
        " adulto ou idoso. Imprima uma mensagem correspondente.\n",
        "'''\n",
        "idade = float(input('Informe sua idade: '))\n",
        "if idade < 18:\n",
        "  print('Você é menor de idade: ')\n",
        "elif idade < 85:\n",
        "  print('Você é adulto')\n",
        "else:\n",
        "  print('Você é idoso')"
      ],
      "metadata": {
        "id": "efFgv5Xx5wFC",
        "colab": {
          "base_uri": "https://localhost:8080/"
        },
        "outputId": "a924cac4-367c-43fd-96c8-c59ac5600034"
      },
      "execution_count": null,
      "outputs": [
        {
          "output_type": "stream",
          "name": "stdout",
          "text": [
            "Informe sua idade: 87\n",
            "Você é idoso\n"
          ]
        }
      ]
    },
    {
      "cell_type": "code",
      "source": [
        "# Condicionais\n",
        "'''\n",
        "9.2. Peça ao usuário para digitar uma nota (0 a 100) e imprima se ele foi\n",
        "aprovado (nota >= 60) ou reprovado.\n",
        "'''\n",
        "nota = float(input('Informe uma nota de 0 a 100: '))\n",
        "if nota >= 60:\n",
        "  print('Aprovado')\n",
        "else:\n",
        "  print('Reprovado')"
      ],
      "metadata": {
        "id": "pse5b4NO52OP",
        "colab": {
          "base_uri": "https://localhost:8080/"
        },
        "outputId": "c198297f-7828-45be-d3b9-8a6865958780"
      },
      "execution_count": null,
      "outputs": [
        {
          "output_type": "stream",
          "name": "stdout",
          "text": [
            "Informe uma nota de 0 a 100: 59\n",
            "Reprovado\n"
          ]
        }
      ]
    },
    {
      "cell_type": "code",
      "source": [
        "# Loop For\n",
        "'''\n",
        "9.3. Crie uma lista com os nomes de cinco cidades. Use um loop for para imprimir\n",
        "cada nome de cidade.\n",
        "'''\n",
        "cidades = ['São Paulo', 'Bragança Paulista', 'Tuiti', 'Vargem', 'Mostarda']\n",
        "for cidade in cidades:\n",
        "  print(cidade)"
      ],
      "metadata": {
        "id": "inMnGHFy525K",
        "colab": {
          "base_uri": "https://localhost:8080/"
        },
        "outputId": "79a7999b-502f-4528-de43-ec9eebdb7433"
      },
      "execution_count": null,
      "outputs": [
        {
          "output_type": "stream",
          "name": "stdout",
          "text": [
            "São Paulo\n",
            "Bragança Paulista\n",
            "Tuiti\n",
            "Vargem\n",
            "Mostarda\n"
          ]
        }
      ]
    },
    {
      "cell_type": "code",
      "source": [
        "# Loop For\n",
        "'''\n",
        "9.4. Crie uma lista com os números de 1 a 10. Use um loop for para imprimir o\n",
        "quadrado de cada número.\n",
        "'''\n",
        "for n in range(1,11):\n",
        "  print(f'O quadrado de {n} é {n**2}')"
      ],
      "metadata": {
        "id": "GitTfGfM539Y",
        "colab": {
          "base_uri": "https://localhost:8080/"
        },
        "outputId": "7a1ed4fb-23ca-4d74-ca4c-0f83e90c3831"
      },
      "execution_count": null,
      "outputs": [
        {
          "output_type": "stream",
          "name": "stdout",
          "text": [
            "O quadrado de 1 é 1\n",
            "O quadrado de 2 é 4\n",
            "O quadrado de 3 é 9\n",
            "O quadrado de 4 é 16\n",
            "O quadrado de 5 é 25\n",
            "O quadrado de 6 é 36\n",
            "O quadrado de 7 é 49\n",
            "O quadrado de 8 é 64\n",
            "O quadrado de 9 é 81\n",
            "O quadrado de 10 é 100\n"
          ]
        }
      ]
    },
    {
      "cell_type": "markdown",
      "source": [
        "# 10 - Estudo de caso 01"
      ],
      "metadata": {
        "id": "_vJUEjo_6mWX"
      }
    },
    {
      "cell_type": "code",
      "source": [
        "'''\n",
        "Contexto:\n",
        "Uma empresa precisa registrar informações sobre seus clientes e calcular o IMC\n",
        "(Índice de Massa Corporal) de cada um deles. As informações devem ser\n",
        "armazenadas em um dicionário e exibidas ao final.\n",
        "'''\n",
        "\n",
        "\n",
        "'''\n",
        "Requisitos:\n",
        "Peça ao usuário para inserir os seguintes dados de um cliente:\n",
        "Nome\n",
        "Idade\n",
        "Peso (em kg)\n",
        "Altura (em metros)\n",
        "E-mail\n",
        "Armazene essas informações em um dicionário.\n",
        "Calcule o IMC do cliente (IMC = Peso / (Altura * Altura)) e adicione esse valor ao dicionário.\n",
        "Exiba todas as informações do cliente, incluindo o IMC arredondado para duas casas decimais.\n",
        "\n",
        "'''\n",
        "nome = input('Informe o nome: ')\n",
        "idade = float(input('Informe a idade: '))\n",
        "peso = float(input('Informe o peso: '))\n",
        "altura = float(input('Informe a altura: '))\n",
        "email = input('Informe o e-mail: ')\n",
        "imc = peso / altura ** 2\n",
        "cliente = {\n",
        "    'nome':nome,\n",
        "    'idade':idade,\n",
        "    'peso':peso,\n",
        "    'altura':altura,\n",
        "    'e-mail':email,\n",
        "    'imc':round(imc,2)\n",
        "}\n",
        "print(cliente)\n",
        "for k, v in cliente.items():\n",
        "  print(f'{k}:{v}')"
      ],
      "metadata": {
        "id": "llIsNhsG6l_z",
        "colab": {
          "base_uri": "https://localhost:8080/"
        },
        "outputId": "e1bcf51a-8991-4dee-a381-a9b5a8eef1cf"
      },
      "execution_count": null,
      "outputs": [
        {
          "output_type": "stream",
          "name": "stdout",
          "text": [
            "Informe o nome: Douglas\n",
            "Informe a idade: 48\n",
            "Informe o peso: 87\n",
            "Informe a altura: 1.85\n",
            "Informe o e-mail: doug@gmail.com\n",
            "{'nome': 'Douglas', 'idade': 48.0, 'peso': 87.0, 'altura': 1.85, 'e-mail': 'doug@gmail.com', 'imc': 25.42}\n",
            "nome:Douglas\n",
            "idade:48.0\n",
            "peso:87.0\n",
            "altura:1.85\n",
            "e-mail:doug@gmail.com\n",
            "imc:25.42\n"
          ]
        }
      ]
    },
    {
      "cell_type": "markdown",
      "source": [
        "# 11 - Estudo de Caso 02"
      ],
      "metadata": {
        "id": "_Yi8lRKQ68B3"
      }
    },
    {
      "cell_type": "code",
      "source": [
        "'''\n",
        "Contexto:\n",
        "Uma escola precisa analisar as notas de seus alunos e determinar se cada aluno\n",
        "foi aprovado ou reprovado. As notas serão armazenadas em uma lista e a análise\n",
        "deve ser realizada em um loop.\n",
        "'''\n",
        "\n",
        "'''\n",
        "Requisitos:\n",
        "Peça ao usuário para inserir o nome e a nota de cinco alunos.\n",
        "Armazene os nomes e as notas em listas separadas.\n",
        "Para cada aluno, verifique se a nota é maior ou igual a 60. Se sim, o aluno está\n",
        "aprovado; caso contrário, está reprovado.\n",
        "Exiba uma mensagem para cada aluno informando seu nome, nota e se foi aprovado\n",
        "ou reprovado.\n",
        "'''\n",
        "nomes = []\n",
        "notas = []\n",
        "for i in range(5):\n",
        "  nomes.append(input(f'Informe o nome do {i+1}º aluno: '))\n",
        "  notas.append(float(input(f'Informe a nota {i+1}º aluno: ')))\n",
        "for i in range(5):\n",
        "  cond = 'Aprovado' if notas[i] >= 60 else 'Reprovado'\n",
        "  print(f'O aluno {nomes[i]} teve nota {notas[i]} e está {cond}')"
      ],
      "metadata": {
        "id": "mrqCtmjg6_It",
        "colab": {
          "base_uri": "https://localhost:8080/"
        },
        "outputId": "d345e7a5-7d41-428c-fc97-7b0fff4e9914"
      },
      "execution_count": null,
      "outputs": [
        {
          "output_type": "stream",
          "name": "stdout",
          "text": [
            "Informe o nome do 1º aluno: Douglas\n",
            "Informe a nota 1º aluno: 10\n",
            "Informe o nome do 2º aluno: Eduardo\n",
            "Informe a nota 2º aluno: 100\n",
            "Informe o nome do 3º aluno: Ester\n",
            "Informe a nota 3º aluno: 80\n",
            "Informe o nome do 4º aluno: Pedro\n",
            "Informe a nota 4º aluno: 70\n",
            "Informe o nome do 5º aluno: Maria\n",
            "Informe a nota 5º aluno: 100\n",
            "O aluno Douglas teve nota 10.0 e está Reprovado\n",
            "O aluno Eduardo teve nota 100.0 e está Aprovado\n",
            "O aluno Ester teve nota 80.0 e está Aprovado\n",
            "O aluno Pedro teve nota 70.0 e está Aprovado\n",
            "O aluno Maria teve nota 100.0 e está Aprovado\n"
          ]
        }
      ]
    },
    {
      "cell_type": "markdown",
      "source": [
        "# 12 - Estudo de caso 03"
      ],
      "metadata": {
        "id": "DoDAFqG37QWG"
      }
    },
    {
      "cell_type": "code",
      "source": [
        "'''\n",
        "Contexto\n",
        "Uma empresa deseja realizar uma pesquisa de opinião com cinco participantes\n",
        "sobre um novo produto. As respostas devem ser armazenadas e analisadas para\n",
        "verificar a satisfação dos clientes.\n",
        "'''\n",
        "\n",
        "'''\n",
        "Requisitos\n",
        "Peça ao usuário para inserir o nome e a opinião (satisfeito/insatisfeito) de\n",
        "cinco participantes.\n",
        "Armazene os nomes e as opiniões em um dicionário.\n",
        "Conte o número de participantes satisfeitos e insatisfeitos.\n",
        "Exiba a lista de participantes satisfeitos e insatisfeitos, bem como o número\n",
        "total de cada categoria.\n",
        "'''\n",
        "pesquisa = {}\n",
        "for i in range(5):\n",
        "  nome = input(f'Informe o nome do {i+1}º participante: ')\n",
        "  opiniao = input(f'Informe a opinião (satisfeito ou insatisfeito) do {i+1}º participante: ').lower()\n",
        "  pesquisa[nome] = opiniao\n",
        "satisfeitos = []\n",
        "insatisfeitos = []\n",
        "for nome, opiniao in pesquisa.items():\n",
        "  if opiniao == 'satisfeito':\n",
        "    satisfeitos.append(nome)\n",
        "  elif opiniao == 'insatisfeito':\n",
        "    insatisfeitos.append(nome)\n",
        "print('\\nParticipantes Satisfeitos: ')\n",
        "for nome in satisfeitos:\n",
        "  print(nome)\n",
        "print(f'\\nTotal de Participantes satisfeitos {len(satisfeitos)}')\n",
        "print('\\nParticipantes Insatisfeitos: ')\n",
        "for nome in insatisfeitos:\n",
        "  print(nome)\n",
        "print(f'\\nTotal de Participantes insatisfeitos {len(insatisfeitos)}')"
      ],
      "metadata": {
        "id": "34JqxL0B7Tvj",
        "colab": {
          "base_uri": "https://localhost:8080/"
        },
        "outputId": "c1352140-6a87-4283-953a-fd9ac130ce5d"
      },
      "execution_count": null,
      "outputs": [
        {
          "output_type": "stream",
          "name": "stdout",
          "text": [
            "Informe o nome do 1º participante: Douglas\n",
            "Informe a opinião (satisfeito ou insatisfeito) do 1º participante: insatisfeito\n",
            "Informe o nome do 2º participante: Edudardo\n",
            "Informe a opinião (satisfeito ou insatisfeito) do 2º participante: satisfeito\n",
            "Informe o nome do 3º participante: Ester\n",
            "Informe a opinião (satisfeito ou insatisfeito) do 3º participante: insatisfeito\n",
            "Informe o nome do 4º participante: Pedro\n",
            "Informe a opinião (satisfeito ou insatisfeito) do 4º participante: satisfeito\n",
            "Informe o nome do 5º participante: Maria\n",
            "Informe a opinião (satisfeito ou insatisfeito) do 5º participante: satisfeito\n",
            "\n",
            "Participantes Satisfeitos: \n",
            "Edudardo\n",
            "Pedro\n",
            "Maria\n",
            "\n",
            "Total de Participantes satisfeitos 3\n",
            "\n",
            "Participantes Insatisfeitos: \n",
            "Douglas\n",
            "Ester\n",
            "\n",
            "Total de Participantes insatisfeitos 2\n"
          ]
        }
      ]
    }
  ]
}