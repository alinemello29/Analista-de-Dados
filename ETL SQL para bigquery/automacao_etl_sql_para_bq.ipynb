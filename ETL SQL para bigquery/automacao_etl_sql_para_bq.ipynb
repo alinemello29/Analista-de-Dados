{
  "nbformat": 4,
  "nbformat_minor": 0,
  "metadata": {
    "colab": {
      "provenance": []
    },
    "kernelspec": {
      "name": "python3",
      "display_name": "Python 3"
    },
    "language_info": {
      "name": "python"
    }
  },
  "cells": [
    {
      "cell_type": "code",
      "execution_count": null,
      "metadata": {
        "colab": {
          "base_uri": "https://localhost:8080/"
        },
        "id": "UkDCFjktIykQ",
        "outputId": "1bb0b76b-a6b4-48fe-cdf4-153e549f49d0"
      },
      "outputs": [
        {
          "output_type": "stream",
          "name": "stdout",
          "text": [
            "34.125.157.151"
          ]
        }
      ],
      "source": [
        "!curl ipecho.net/plain"
      ]
    },
    {
      "cell_type": "code",
      "source": [
        "!pip install mysql-connector-python"
      ],
      "metadata": {
        "colab": {
          "base_uri": "https://localhost:8080/"
        },
        "id": "nzu2tLjNN58v",
        "outputId": "c5f7dd3a-89e3-4dc6-a911-6b8f64b1ee18"
      },
      "execution_count": null,
      "outputs": [
        {
          "output_type": "stream",
          "name": "stdout",
          "text": [
            "Collecting mysql-connector-python\n",
            "  Downloading mysql_connector_python-9.1.0-cp310-cp310-manylinux_2_28_x86_64.whl.metadata (6.0 kB)\n",
            "Downloading mysql_connector_python-9.1.0-cp310-cp310-manylinux_2_28_x86_64.whl (34.4 MB)\n",
            "\u001b[2K   \u001b[90m━━━━━━━━━━━━━━━━━━━━━━━━━━━━━━━━━━━━━━━━\u001b[0m \u001b[32m34.4/34.4 MB\u001b[0m \u001b[31m21.2 MB/s\u001b[0m eta \u001b[36m0:00:00\u001b[0m\n",
            "\u001b[?25hInstalling collected packages: mysql-connector-python\n",
            "Successfully installed mysql-connector-python-9.1.0\n"
          ]
        }
      ]
    },
    {
      "cell_type": "code",
      "source": [
        "# Importando as bibliotecas necessárias\n",
        "import mysql.connector\n",
        "import pandas as pd\n",
        "from google.cloud import bigquery\n",
        "import requests\n",
        "import os\n",
        "\n",
        "# URL pública para a chave de serviço JSON\n",
        "json_key_url = 'https://storage.googleapis.com/chaves-01/etl-bq/projeto-aline-440013-87e1b1daa2fa.json'\n",
        "local_json_path = '/tmp/service_account_key.json'\n",
        "\n",
        "def download_key_from_url():\n",
        "    \"\"\"Função para baixar a chave JSON de uma URL pública\"\"\"\n",
        "    response = requests.get(json_key_url)\n",
        "    if response.status_code == 200:\n",
        "        with open(local_json_path, 'wb') as f:\n",
        "            f.write(response.content)\n",
        "        print(\"Chave JSON baixada com sucesso da URL pública.\")\n",
        "    else:\n",
        "        print(\"Falha ao baixar a chave JSON. Verifique a URL.\")\n",
        "\n",
        "# Baixar a chave JSON\n",
        "download_key_from_url()\n",
        "\n",
        "# Inicializando o cliente BigQuery com a chave JSON diretamente\n",
        "client = bigquery.Client.from_service_account_json(local_json_path)\n",
        "\n",
        "# Variáveis de conexão MySQL\n",
        "db_config = {\n",
        "    \"host\": \"34.69.233.123\",\n",
        "    \"user\": \"root\",\n",
        "    \"password\": \"\",\n",
        "    \"database\": \"loja\",\n",
        "}\n",
        "\n",
        "# Definindo as variáveis com id do projeto e nome do dataset\n",
        "project_id = 'projeto-aline-440013'\n",
        "dataset_id = 'loja_python_otimizado'\n",
        "\n",
        "def fetch_and_load_to_bigquery(query, table_name):\n",
        "    # Conexão com MySQL, executando as consultas, e convertendo para DataFrame\n",
        "    with mysql.connector.connect(**db_config) as conn:\n",
        "        df = pd.read_sql(query, conn)\n",
        "    # Carregando os DataFrames na BigQuery\n",
        "    df.to_gbq(f\"{project_id}.{dataset_id}.{table_name}\", project_id=project_id,\n",
        "              if_exists='replace', credentials=client._credentials)\n",
        "    print(f\"Loaded {table_name} to BigQuery successfully.\")\n",
        "\n",
        "# Definindo as queries e seus respectivos nomes de tabela na BigQuery\n",
        "queries = {\n",
        "    \"cliente\": \"SELECT * FROM Cliente;\",\n",
        "    \"pedido\": \"SELECT * FROM Pedido;\",\n",
        "    \"produto\": \"SELECT * FROM Produto;\",\n",
        "    \"item_pedido\": \"SELECT * FROM ItemPedido;\",\n",
        "    \"categoria\": \"SELECT * FROM Categoria;\",\n",
        "    \"produto_pedido\": \"SELECT * FROM ProdutoCategoria;\"\n",
        "}\n",
        "\n",
        "# Executando o código para cada tabela existente no banco transacional\n",
        "for table_name, query in queries.items():\n",
        "    fetch_and_load_to_bigquery(query, table_name)"
      ],
      "metadata": {
        "colab": {
          "base_uri": "https://localhost:8080/"
        },
        "id": "kAgUzwUER0if",
        "outputId": "cd6ee140-4ebd-40fa-b4be-c28058cc9c89"
      },
      "execution_count": null,
      "outputs": [
        {
          "output_type": "stream",
          "name": "stdout",
          "text": [
            "Chave JSON baixada com sucesso da URL pública.\n"
          ]
        },
        {
          "output_type": "stream",
          "name": "stderr",
          "text": [
            "<ipython-input-3-b614967e2528>:43: UserWarning: pandas only supports SQLAlchemy connectable (engine/connection) or database string URI or sqlite3 DBAPI2 connection. Other DBAPI2 objects are not tested. Please consider using SQLAlchemy.\n",
            "  df = pd.read_sql(query, conn)\n",
            "<ipython-input-3-b614967e2528>:45: FutureWarning: to_gbq is deprecated and will be removed in a future version. Please use pandas_gbq.to_gbq instead: https://pandas-gbq.readthedocs.io/en/latest/api.html#pandas_gbq.to_gbq\n",
            "  df.to_gbq(f\"{project_id}.{dataset_id}.{table_name}\", project_id=project_id,\n",
            "100%|██████████| 1/1 [00:00<00:00, 737.40it/s]\n"
          ]
        },
        {
          "output_type": "stream",
          "name": "stdout",
          "text": [
            "Loaded cliente to BigQuery successfully.\n"
          ]
        },
        {
          "output_type": "stream",
          "name": "stderr",
          "text": [
            "<ipython-input-3-b614967e2528>:43: UserWarning: pandas only supports SQLAlchemy connectable (engine/connection) or database string URI or sqlite3 DBAPI2 connection. Other DBAPI2 objects are not tested. Please consider using SQLAlchemy.\n",
            "  df = pd.read_sql(query, conn)\n",
            "<ipython-input-3-b614967e2528>:45: FutureWarning: to_gbq is deprecated and will be removed in a future version. Please use pandas_gbq.to_gbq instead: https://pandas-gbq.readthedocs.io/en/latest/api.html#pandas_gbq.to_gbq\n",
            "  df.to_gbq(f\"{project_id}.{dataset_id}.{table_name}\", project_id=project_id,\n",
            "100%|██████████| 1/1 [00:00<00:00, 6087.52it/s]\n"
          ]
        },
        {
          "output_type": "stream",
          "name": "stdout",
          "text": [
            "Loaded pedido to BigQuery successfully.\n"
          ]
        },
        {
          "output_type": "stream",
          "name": "stderr",
          "text": [
            "<ipython-input-3-b614967e2528>:43: UserWarning: pandas only supports SQLAlchemy connectable (engine/connection) or database string URI or sqlite3 DBAPI2 connection. Other DBAPI2 objects are not tested. Please consider using SQLAlchemy.\n",
            "  df = pd.read_sql(query, conn)\n",
            "<ipython-input-3-b614967e2528>:45: FutureWarning: to_gbq is deprecated and will be removed in a future version. Please use pandas_gbq.to_gbq instead: https://pandas-gbq.readthedocs.io/en/latest/api.html#pandas_gbq.to_gbq\n",
            "  df.to_gbq(f\"{project_id}.{dataset_id}.{table_name}\", project_id=project_id,\n",
            "100%|██████████| 1/1 [00:00<00:00, 9177.91it/s]\n"
          ]
        },
        {
          "output_type": "stream",
          "name": "stdout",
          "text": [
            "Loaded produto to BigQuery successfully.\n"
          ]
        },
        {
          "output_type": "stream",
          "name": "stderr",
          "text": [
            "<ipython-input-3-b614967e2528>:43: UserWarning: pandas only supports SQLAlchemy connectable (engine/connection) or database string URI or sqlite3 DBAPI2 connection. Other DBAPI2 objects are not tested. Please consider using SQLAlchemy.\n",
            "  df = pd.read_sql(query, conn)\n",
            "<ipython-input-3-b614967e2528>:45: FutureWarning: to_gbq is deprecated and will be removed in a future version. Please use pandas_gbq.to_gbq instead: https://pandas-gbq.readthedocs.io/en/latest/api.html#pandas_gbq.to_gbq\n",
            "  df.to_gbq(f\"{project_id}.{dataset_id}.{table_name}\", project_id=project_id,\n",
            "100%|██████████| 1/1 [00:00<00:00, 7810.62it/s]\n"
          ]
        },
        {
          "output_type": "stream",
          "name": "stdout",
          "text": [
            "Loaded item_pedido to BigQuery successfully.\n"
          ]
        },
        {
          "output_type": "stream",
          "name": "stderr",
          "text": [
            "<ipython-input-3-b614967e2528>:43: UserWarning: pandas only supports SQLAlchemy connectable (engine/connection) or database string URI or sqlite3 DBAPI2 connection. Other DBAPI2 objects are not tested. Please consider using SQLAlchemy.\n",
            "  df = pd.read_sql(query, conn)\n",
            "<ipython-input-3-b614967e2528>:45: FutureWarning: to_gbq is deprecated and will be removed in a future version. Please use pandas_gbq.to_gbq instead: https://pandas-gbq.readthedocs.io/en/latest/api.html#pandas_gbq.to_gbq\n",
            "  df.to_gbq(f\"{project_id}.{dataset_id}.{table_name}\", project_id=project_id,\n",
            "100%|██████████| 1/1 [00:00<00:00, 6432.98it/s]\n"
          ]
        },
        {
          "output_type": "stream",
          "name": "stdout",
          "text": [
            "Loaded categoria to BigQuery successfully.\n"
          ]
        },
        {
          "output_type": "stream",
          "name": "stderr",
          "text": [
            "<ipython-input-3-b614967e2528>:43: UserWarning: pandas only supports SQLAlchemy connectable (engine/connection) or database string URI or sqlite3 DBAPI2 connection. Other DBAPI2 objects are not tested. Please consider using SQLAlchemy.\n",
            "  df = pd.read_sql(query, conn)\n",
            "<ipython-input-3-b614967e2528>:45: FutureWarning: to_gbq is deprecated and will be removed in a future version. Please use pandas_gbq.to_gbq instead: https://pandas-gbq.readthedocs.io/en/latest/api.html#pandas_gbq.to_gbq\n",
            "  df.to_gbq(f\"{project_id}.{dataset_id}.{table_name}\", project_id=project_id,\n",
            "100%|██████████| 1/1 [00:00<00:00, 1478.43it/s]"
          ]
        },
        {
          "output_type": "stream",
          "name": "stdout",
          "text": [
            "Loaded produto_pedido to BigQuery successfully.\n"
          ]
        },
        {
          "output_type": "stream",
          "name": "stderr",
          "text": [
            "\n"
          ]
        }
      ]
    }
  ]
}