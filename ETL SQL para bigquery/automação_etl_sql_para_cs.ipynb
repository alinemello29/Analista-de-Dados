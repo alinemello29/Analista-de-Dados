{
  "nbformat": 4,
  "nbformat_minor": 0,
  "metadata": {
    "colab": {
      "provenance": []
    },
    "kernelspec": {
      "name": "python3",
      "display_name": "Python 3"
    },
    "language_info": {
      "name": "python"
    }
  },
  "cells": [
    {
      "cell_type": "code",
      "execution_count": null,
      "metadata": {
        "colab": {
          "base_uri": "https://localhost:8080/"
        },
        "id": "ACHnYm_mIpIW",
        "outputId": "72b531e3-46ed-46b7-fb95-6903403cfd5f"
      },
      "outputs": [
        {
          "output_type": "stream",
          "name": "stdout",
          "text": [
            "34.19.69.43"
          ]
        }
      ],
      "source": [
        "!curl ipecho.net/plain"
      ]
    },
    {
      "cell_type": "code",
      "source": [
        "!pip install mysql-connector-python"
      ],
      "metadata": {
        "colab": {
          "base_uri": "https://localhost:8080/"
        },
        "id": "rK1lSLDjOEkO",
        "outputId": "63ff0804-c36c-4b21-dc81-b24da66b6175"
      },
      "execution_count": null,
      "outputs": [
        {
          "output_type": "stream",
          "name": "stdout",
          "text": [
            "Collecting mysql-connector-python\n",
            "  Downloading mysql_connector_python-9.1.0-cp310-cp310-manylinux_2_28_x86_64.whl.metadata (6.0 kB)\n",
            "Downloading mysql_connector_python-9.1.0-cp310-cp310-manylinux_2_28_x86_64.whl (34.4 MB)\n",
            "\u001b[2K   \u001b[90m━━━━━━━━━━━━━━━━━━━━━━━━━━━━━━━━━━━━━━━━\u001b[0m \u001b[32m34.4/34.4 MB\u001b[0m \u001b[31m32.2 MB/s\u001b[0m eta \u001b[36m0:00:00\u001b[0m\n",
            "\u001b[?25hInstalling collected packages: mysql-connector-python\n",
            "Successfully installed mysql-connector-python-9.1.0\n"
          ]
        }
      ]
    },
    {
      "cell_type": "code",
      "source": [
        "import pandas as pd\n",
        "from google.cloud import storage\n",
        "import mysql.connector\n",
        "import requests\n",
        "import json\n",
        "import os\n",
        "\n",
        "# URL da chave pública na bucket\n",
        "public_key_url = 'https://storage.googleapis.com/chaves-01/etl-cs/projeto-aline-440013-f24ad2833ee5.json'\n",
        "\n",
        "# Fazer download da chave pública\n",
        "response = requests.get(public_key_url)\n",
        "response.raise_for_status()\n",
        "\n",
        "# Salvar a chave em um arquivo temporário local\n",
        "with open('service_account_key.json', 'w') as f:\n",
        "    json.dump(response.json(), f)\n",
        "\n",
        "# Configurar as credenciais para o Google Cloud Storage\n",
        "os.environ[\"GOOGLE_APPLICATION_CREDENTIALS\"] = 'service_account_key.json'\n",
        "\n",
        "# Configuração do Google Cloud Storage e do banco de dados\n",
        "bucket_name = 'banco-aline-01'\n",
        "database_name = 'loja'\n",
        "storage_client = storage.Client()\n",
        "bucket = storage_client.bucket(bucket_name)\n",
        "\n",
        "# Conectar-se ao banco de dados MySQL\n",
        "connection = mysql.connector.connect(\n",
        "    host='34.69.233.123',\n",
        "    user='root',\n",
        "    password='',\n",
        "    database=database_name\n",
        ")\n",
        "\n",
        "# Listar tabelas no banco de dados\n",
        "cursor = connection.cursor()\n",
        "cursor.execute(\"SHOW TABLES;\")\n",
        "tables = cursor.fetchall()\n",
        "\n",
        "# Extraindo cada tabela e salvando na pasta do banco de dados na bucket\n",
        "for (table_name,) in tables:\n",
        "    # Carregar dados da tabela para um DataFrame\n",
        "    query = f\"SELECT * FROM {table_name}\"\n",
        "    df = pd.read_sql(query, connection)\n",
        "\n",
        "    # Nome do arquivo com o caminho da pasta\n",
        "    csv_filename = f\"{database_name}/{table_name}.csv\"\n",
        "\n",
        "    # Salvar o DataFrame em CSV temporário\n",
        "    df.to_csv(table_name + '.csv', index=False)\n",
        "\n",
        "    # Upload para a bucket GCS na pasta do banco\n",
        "    blob = bucket.blob(csv_filename)\n",
        "    blob.upload_from_filename(table_name + '.csv')\n",
        "    print(f\"Tabela {table_name} salva como {csv_filename} na bucket {bucket_name}.\")\n",
        "\n",
        "# Fechar o cursor e a conexão com o banco de dados\n",
        "cursor.close()\n",
        "connection.close()"
      ],
      "metadata": {
        "colab": {
          "base_uri": "https://localhost:8080/"
        },
        "id": "BpxzG15qkQo8",
        "outputId": "76c69d9a-9aa4-44e5-de98-d3ed7541462c"
      },
      "execution_count": null,
      "outputs": [
        {
          "output_type": "stream",
          "name": "stderr",
          "text": [
            "<ipython-input-4-28cafc933aad>:45: UserWarning: pandas only supports SQLAlchemy connectable (engine/connection) or database string URI or sqlite3 DBAPI2 connection. Other DBAPI2 objects are not tested. Please consider using SQLAlchemy.\n",
            "  df = pd.read_sql(query, connection)\n"
          ]
        },
        {
          "output_type": "stream",
          "name": "stdout",
          "text": [
            "Tabela Categoria salva como loja/Categoria.csv na bucket banco-aline-01.\n",
            "Tabela Cliente salva como loja/Cliente.csv na bucket banco-aline-01.\n",
            "Tabela ItemPedido salva como loja/ItemPedido.csv na bucket banco-aline-01.\n",
            "Tabela Pedido salva como loja/Pedido.csv na bucket banco-aline-01.\n",
            "Tabela Produto salva como loja/Produto.csv na bucket banco-aline-01.\n",
            "Tabela ProdutoCategoria salva como loja/ProdutoCategoria.csv na bucket banco-aline-01.\n"
          ]
        }
      ]
    }
  ]
}