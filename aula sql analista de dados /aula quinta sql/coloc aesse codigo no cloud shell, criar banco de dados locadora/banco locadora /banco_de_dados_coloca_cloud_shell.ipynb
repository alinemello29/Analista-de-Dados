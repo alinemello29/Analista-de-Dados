{
  "nbformat": 4,
  "nbformat_minor": 0,
  "metadata": {
    "colab": {
      "provenance": []
    },
    "kernelspec": {
      "name": "python3",
      "display_name": "Python 3"
    },
    "language_info": {
      "name": "python"
    }
  },
  "cells": [
    {
      "cell_type": "markdown",
      "source": [
        "#colocar esse codigo no cloud shell\n",
        "#criar banco dados com nome locadora"
      ],
      "metadata": {
        "id": "j7W-RF7EhcXq"
      }
    },
    {
      "cell_type": "code",
      "execution_count": null,
      "metadata": {
        "id": "Vd7_sjZbFo_C"
      },
      "outputs": [],
      "source": [
        "'''\n",
        "CREATE TABLE cliente(\n",
        "codcliente INT PRIMARY KEY,\n",
        "nome VARCHAR(50),\n",
        "cidade VARCHAR(50),\n",
        "sexo CHAR(1),\n",
        "estado CHAR(2),\n",
        "estadocivil CHAR(1)\n",
        ");\n",
        "\n",
        "CREATE TABLE marca(\n",
        "codmarca INT PRIMARY KEY,\n",
        "marca VARCHAR(30)\n",
        ");\n",
        "\n",
        "CREATE TABLE carro(\n",
        "codcarro INT PRIMARY KEY,\n",
        "codmarca INT,\n",
        "modelo VARCHAR(30) NOT NULL,\n",
        "valor FLOAT,\n",
        "FOREIGN KEY (codmarca) REFERENCES marca (codmarca)\n",
        ");\n",
        "\n",
        "CREATE TABLE aluguel(\n",
        "codaluguel INT PRIMARY KEY,\n",
        "codcliente INT,\n",
        "codcarro INT,\n",
        "data_aluguel DATE,\n",
        "FOREIGN KEY (codcliente) REFERENCES cliente (codcliente),\n",
        "FOREIGN KEY (codcarro) REFERENCES carro (codcarro)\n",
        ");\n",
        "\n",
        "INSERT INTO cliente (codcliente, nome, cidade, sexo, estado, estadocivil)\n",
        "VALUES\n",
        "(1, 'Ana Silva', 'Duque de Caxias', 'F', 'RJ', 'C'),\n",
        "(2, 'Bruna Pereira', 'Niterói', 'F', 'RJ', 'C'),\n",
        "(3, 'Túlio Nascimento', 'Duque de Caxias', 'M', 'RJ', 'S'),\n",
        "(4, 'Fernando Souza', 'Campinas', 'M', 'SP', 'S'),\n",
        "(5, 'Lúcia Andrade', 'São Paulo', 'F', 'SP', 'C');\n",
        "\n",
        "INSERT INTO marca (codmarca, marca) VALUES\n",
        "(1, 'Ford'),\n",
        "(2, 'Fiat'),\n",
        "(3, 'Chevrolet'),\n",
        "(4, 'Volkswagen'),\n",
        "(5, 'Renault');\n",
        "\n",
        "INSERT INTO carro (codcarro, modelo, codmarca, valor) VALUES\n",
        "(1, 'Ka', 1, 100.00),\n",
        "(2, 'Argo', 2, 150.00),\n",
        "(3, 'Onix', 3, 170.00),\n",
        "(4, 'Polo', 4, 150.00),\n",
        "(5, 'Kwid', 5, 120.00);\n",
        "\n",
        "INSERT INTO aluguel (codaluguel, codcliente, codcarro, data_aluguel)VALUES\n",
        "(1, 3, 2, '2023-04-01'),\n",
        "(2, 2, 1, '2023-04-02'),\n",
        "(3, 2, 1, '2023-04-03'),\n",
        "(4, 2, 3, '2023-04-04'),\n",
        "(5, 1, 4, '2023-04-05'),\n",
        "(6, 1, 4, '2023-04-13'),\n",
        "(7, 1, 1, '2023-04-15'),\n",
        "(8, 5, 2, '2023-04-19'),\n",
        "(9, 5, 2, '2023-04-21'),\n",
        "(10,3, 1, '2023-04-25');\n",
        "\n",
        "'''"
      ]
    }
  ]
}