{
  "nbformat": 4,
  "nbformat_minor": 0,
  "metadata": {
    "colab": {
      "provenance": []
    },
    "kernelspec": {
      "name": "python3",
      "display_name": "Python 3"
    },
    "language_info": {
      "name": "python"
    }
  },
  "cells": [
    {
      "cell_type": "code",
      "execution_count": null,
      "metadata": {
        "id": "ZfgSlmHKnJKn"
      },
      "outputs": [],
      "source": [
        "import requests\n",
        "import json"
      ]
    },
    {
      "cell_type": "code",
      "source": [
        "# Definir o termo de busca\n",
        "termo_de_busca = \"notebook\"\n",
        "\n",
        "# Construir a URL de requisição\n",
        "url = f\"https://api.mercadolibre.com/sites/MLB/search?q={termo_de_busca}\"\n",
        "\n",
        "# Fazer a requisição GET para a API\n",
        "response = requests.get(url)\n",
        "\n",
        "# Verificar se a requisição foi bem-sucedida\n",
        "if response.status_code == 200:\n",
        "    # Carregar os dados em formato JSON\n",
        "    dados = response.json()\n",
        "\n",
        "    # Exibir os dados\n",
        "    print(json.dumps(dados, indent=4, ensure_ascii=False))\n",
        "else:\n",
        "    print(f\"Erro na requisição: {response.status_code}\")"
      ],
      "metadata": {
        "id": "Jg08lCmiojYh"
      },
      "execution_count": null,
      "outputs": []
    },
    {
      "cell_type": "code",
      "source": [
        "# Listar as chaves principais do JSON\n",
        "print(\"Chaves no nível superior:\")\n",
        "print(dados.keys())"
      ],
      "metadata": {
        "colab": {
          "base_uri": "https://localhost:8080/"
        },
        "id": "0I4_OCiTqjCs",
        "outputId": "b20a549f-4e5b-4a42-f23e-f0d3c83581a7"
      },
      "execution_count": null,
      "outputs": [
        {
          "output_type": "stream",
          "name": "stdout",
          "text": [
            "Chaves no nível superior:\n",
            "dict_keys(['site_id', 'country_default_time_zone', 'query', 'paging', 'results', 'sort', 'available_sorts', 'filters', 'available_filters', 'pdp_tracking', 'user_context'])\n"
          ]
        }
      ]
    },
    {
      "cell_type": "code",
      "source": [
        "# Explorar a chave 'results', que geralmente contém os itens principais\n",
        "if 'results' in dados:\n",
        "    print(\"\\nChaves dentro de 'results':\")\n",
        "    if len(dados['results']) > 0:\n",
        "        print(dados['results'][0].keys())\n",
        "    else:\n",
        "        print(\"Nenhum resultado encontrado em 'results'.\")"
      ],
      "metadata": {
        "colab": {
          "base_uri": "https://localhost:8080/"
        },
        "id": "ld3Jy7fQq4ri",
        "outputId": "dbfbdcb3-63f8-4a04-b689-fae87c2e88d2"
      },
      "execution_count": null,
      "outputs": [
        {
          "output_type": "stream",
          "name": "stdout",
          "text": [
            "\n",
            "Chaves dentro de 'results':\n",
            "dict_keys(['id', 'title', 'condition', 'thumbnail_id', 'catalog_product_id', 'listing_type_id', 'sanitized_title', 'permalink', 'buying_mode', 'site_id', 'category_id', 'domain_id', 'thumbnail', 'currency_id', 'order_backend', 'price', 'original_price', 'sale_price', 'available_quantity', 'official_store_id', 'official_store_name', 'use_thumbnail_id', 'accepts_mercadopago', 'shipping', 'stop_time', 'seller', 'address', 'attributes', 'installments', 'winner_item_id', 'catalog_listing', 'discounts', 'decorations', 'promotions', 'inventory_id'])\n"
          ]
        }
      ]
    },
    {
      "cell_type": "markdown",
      "source": [
        "# Resumindo o que foi visto anteriormente"
      ],
      "metadata": {
        "id": "b7CjtE2Lt0BE"
      }
    },
    {
      "cell_type": "code",
      "source": [
        "import requests\n",
        "import json\n",
        "# Definir o termo de busca\n",
        "termo_de_busca = \"notebook\"\n",
        "\n",
        "# Construir a URL de requisição\n",
        "url = f\"https://api.mercadolibre.com/sites/MLB/search?q={termo_de_busca}\"\n",
        "\n",
        "# Fazer a requisição GET para a API\n",
        "response = requests.get(url)\n",
        "\n",
        "# Verificar se a requisição foi bem-sucedida\n",
        "if response.status_code == 200:\n",
        "    # Carregar os dados em formato JSON\n",
        "    dados = response.json()\n",
        "\n",
        "    # Listar as chaves principais\n",
        "    print(\"Chaves no nível superior:\")\n",
        "    print(dados.keys())\n",
        "\n",
        "    # Explorar a chave 'results' (se existir)\n",
        "    if 'results' in dados:\n",
        "        print(\"\\nChaves dentro de 'results':\")\n",
        "        if len(dados['results']) > 0:\n",
        "            print(dados['results'][0].keys())\n",
        "        else:\n",
        "            print(\"Nenhum resultado encontrado em 'results'.\")\n",
        "else:\n",
        "    print(f\"Erro na requisição: {response.status_code}\")"
      ],
      "metadata": {
        "colab": {
          "base_uri": "https://localhost:8080/"
        },
        "id": "tgIR5ifAs6DP",
        "outputId": "4f005c01-84f6-43c7-ea26-00b533220cfc"
      },
      "execution_count": null,
      "outputs": [
        {
          "output_type": "stream",
          "name": "stdout",
          "text": [
            "Chaves no nível superior:\n",
            "dict_keys(['site_id', 'country_default_time_zone', 'query', 'paging', 'results', 'sort', 'available_sorts', 'filters', 'available_filters', 'pdp_tracking', 'user_context'])\n",
            "\n",
            "Chaves dentro de 'results':\n",
            "dict_keys(['id', 'title', 'condition', 'thumbnail_id', 'catalog_product_id', 'listing_type_id', 'sanitized_title', 'permalink', 'buying_mode', 'site_id', 'category_id', 'domain_id', 'thumbnail', 'currency_id', 'order_backend', 'price', 'original_price', 'sale_price', 'available_quantity', 'official_store_id', 'official_store_name', 'use_thumbnail_id', 'accepts_mercadopago', 'shipping', 'stop_time', 'seller', 'address', 'attributes', 'installments', 'winner_item_id', 'catalog_listing', 'discounts', 'decorations', 'promotions', 'inventory_id'])\n"
          ]
        }
      ]
    },
    {
      "cell_type": "code",
      "source": [
        "# Verificar se a requisição foi bem-sucedida\n",
        "if response.status_code == 200:\n",
        "    # Carregar os dados em formato JSON\n",
        "    dados = response.json()\n",
        "\n",
        "    # Iterar sobre os resultados e extrair informações desejadas\n",
        "    for item in dados.get('results', []):\n",
        "        titulo = item.get('title')\n",
        "        preco = item.get('price')\n",
        "        link = item.get('permalink')\n",
        "        print(f\"Título: {titulo}\\nPreço: R$ {preco}\\nLink: {link}\\n\")\n",
        "else:\n",
        "    print(f\"Erro na requisição: {response.status_code}\")"
      ],
      "metadata": {
        "id": "YdpoZs36t47Q"
      },
      "execution_count": null,
      "outputs": []
    },
    {
      "cell_type": "markdown",
      "source": [
        "# Código completo com \"Pandeamento\" dos dados"
      ],
      "metadata": {
        "id": "dFLR8IiaxGGe"
      }
    },
    {
      "cell_type": "code",
      "source": [
        "import requests\n",
        "import pandas as pd\n",
        "\n",
        "# Termo de busca\n",
        "termo_de_busca = \"notebook\"\n",
        "\n",
        "# URL da API do Mercado Livre\n",
        "url = f\"https://api.mercadolibre.com/sites/MLB/search?q={termo_de_busca}\"\n",
        "\n",
        "# Fazer a requisição GET\n",
        "response = requests.get(url)\n",
        "\n",
        "# Verificar se a requisição foi bem-sucedida\n",
        "if response.status_code == 200:\n",
        "    # Carregar os dados em formato JSON\n",
        "    dados = response.json()\n",
        "\n",
        "    # Extrair os dados relevantes\n",
        "    produtos = []\n",
        "    for item in dados.get('results', []):\n",
        "        produto = {\n",
        "            \"Título\": item.get('title'),\n",
        "            \"Preço (R$)\": item.get('price'),\n",
        "            \"Link\": item.get('permalink'),\n",
        "            \"Condição\": item.get('condition'),\n",
        "            \"Categoria\": item.get('category_id')\n",
        "        }\n",
        "        produtos.append(produto)\n",
        "\n",
        "    # Criar o DataFrame\n",
        "    df = pd.DataFrame(produtos)\n",
        "\n",
        "    # Exibir o DataFrame\n",
        "    display(df)\n",
        "else:\n",
        "    print(f\"Erro na requisição: {response.status_code}\")"
      ],
      "metadata": {
        "id": "pDS6Pm0Evl4g"
      },
      "execution_count": null,
      "outputs": []
    },
    {
      "cell_type": "code",
      "source": [
        "df.head()"
      ],
      "metadata": {
        "id": "aBDcdmRvxSOp",
        "outputId": "f696aed6-2424-42f7-e4e2-f72b7f88f1dc",
        "colab": {
          "base_uri": "https://localhost:8080/",
          "height": 293
        }
      },
      "execution_count": null,
      "outputs": [
        {
          "output_type": "execute_result",
          "data": {
            "text/plain": [
              "                                              Título  Preço (R$)  \\\n",
              "0  Notebook 256-g9 I3 8gb 256gb Ssd 15w11 7z3r2la...     2339.10   \n",
              "1  Notebook Gamer Acer Nitro V15 Anv15-51-57ws In...     4349.00   \n",
              "2  Notebook Acer Aspire 3 Intel Core I3 - N305, 8...     2479.54   \n",
              "3  Notebook Samsung Galaxy Book4 Intel Inside U30...     2199.00   \n",
              "4  Notebook Acer Aspire Vero Av15-51-577q Intel C...     3399.00   \n",
              "\n",
              "                                                Link Condição Categoria  \n",
              "0  https://www.mercadolivre.com.br/notebook-256-g...      new   MLB1652  \n",
              "1  https://www.mercadolivre.com.br/notebook-gamer...      new   MLB1652  \n",
              "2  https://www.mercadolivre.com.br/notebook-acer-...      new   MLB1652  \n",
              "3  https://www.mercadolivre.com.br/notebook-samsu...      new   MLB1652  \n",
              "4  https://www.mercadolivre.com.br/notebook-acer-...      new   MLB1652  "
            ],
            "text/html": [
              "\n",
              "  <div id=\"df-d16b2e90-8f63-4cc2-9f0f-3b5b1e3d3885\" class=\"colab-df-container\">\n",
              "    <div>\n",
              "<style scoped>\n",
              "    .dataframe tbody tr th:only-of-type {\n",
              "        vertical-align: middle;\n",
              "    }\n",
              "\n",
              "    .dataframe tbody tr th {\n",
              "        vertical-align: top;\n",
              "    }\n",
              "\n",
              "    .dataframe thead th {\n",
              "        text-align: right;\n",
              "    }\n",
              "</style>\n",
              "<table border=\"1\" class=\"dataframe\">\n",
              "  <thead>\n",
              "    <tr style=\"text-align: right;\">\n",
              "      <th></th>\n",
              "      <th>Título</th>\n",
              "      <th>Preço (R$)</th>\n",
              "      <th>Link</th>\n",
              "      <th>Condição</th>\n",
              "      <th>Categoria</th>\n",
              "    </tr>\n",
              "  </thead>\n",
              "  <tbody>\n",
              "    <tr>\n",
              "      <th>0</th>\n",
              "      <td>Notebook 256-g9 I3 8gb 256gb Ssd 15w11 7z3r2la...</td>\n",
              "      <td>2339.10</td>\n",
              "      <td>https://www.mercadolivre.com.br/notebook-256-g...</td>\n",
              "      <td>new</td>\n",
              "      <td>MLB1652</td>\n",
              "    </tr>\n",
              "    <tr>\n",
              "      <th>1</th>\n",
              "      <td>Notebook Gamer Acer Nitro V15 Anv15-51-57ws In...</td>\n",
              "      <td>4349.00</td>\n",
              "      <td>https://www.mercadolivre.com.br/notebook-gamer...</td>\n",
              "      <td>new</td>\n",
              "      <td>MLB1652</td>\n",
              "    </tr>\n",
              "    <tr>\n",
              "      <th>2</th>\n",
              "      <td>Notebook Acer Aspire 3 Intel Core I3 - N305, 8...</td>\n",
              "      <td>2479.54</td>\n",
              "      <td>https://www.mercadolivre.com.br/notebook-acer-...</td>\n",
              "      <td>new</td>\n",
              "      <td>MLB1652</td>\n",
              "    </tr>\n",
              "    <tr>\n",
              "      <th>3</th>\n",
              "      <td>Notebook Samsung Galaxy Book4 Intel Inside U30...</td>\n",
              "      <td>2199.00</td>\n",
              "      <td>https://www.mercadolivre.com.br/notebook-samsu...</td>\n",
              "      <td>new</td>\n",
              "      <td>MLB1652</td>\n",
              "    </tr>\n",
              "    <tr>\n",
              "      <th>4</th>\n",
              "      <td>Notebook Acer Aspire Vero Av15-51-577q Intel C...</td>\n",
              "      <td>3399.00</td>\n",
              "      <td>https://www.mercadolivre.com.br/notebook-acer-...</td>\n",
              "      <td>new</td>\n",
              "      <td>MLB1652</td>\n",
              "    </tr>\n",
              "  </tbody>\n",
              "</table>\n",
              "</div>\n",
              "    <div class=\"colab-df-buttons\">\n",
              "\n",
              "  <div class=\"colab-df-container\">\n",
              "    <button class=\"colab-df-convert\" onclick=\"convertToInteractive('df-d16b2e90-8f63-4cc2-9f0f-3b5b1e3d3885')\"\n",
              "            title=\"Convert this dataframe to an interactive table.\"\n",
              "            style=\"display:none;\">\n",
              "\n",
              "  <svg xmlns=\"http://www.w3.org/2000/svg\" height=\"24px\" viewBox=\"0 -960 960 960\">\n",
              "    <path d=\"M120-120v-720h720v720H120Zm60-500h600v-160H180v160Zm220 220h160v-160H400v160Zm0 220h160v-160H400v160ZM180-400h160v-160H180v160Zm440 0h160v-160H620v160ZM180-180h160v-160H180v160Zm440 0h160v-160H620v160Z\"/>\n",
              "  </svg>\n",
              "    </button>\n",
              "\n",
              "  <style>\n",
              "    .colab-df-container {\n",
              "      display:flex;\n",
              "      gap: 12px;\n",
              "    }\n",
              "\n",
              "    .colab-df-convert {\n",
              "      background-color: #E8F0FE;\n",
              "      border: none;\n",
              "      border-radius: 50%;\n",
              "      cursor: pointer;\n",
              "      display: none;\n",
              "      fill: #1967D2;\n",
              "      height: 32px;\n",
              "      padding: 0 0 0 0;\n",
              "      width: 32px;\n",
              "    }\n",
              "\n",
              "    .colab-df-convert:hover {\n",
              "      background-color: #E2EBFA;\n",
              "      box-shadow: 0px 1px 2px rgba(60, 64, 67, 0.3), 0px 1px 3px 1px rgba(60, 64, 67, 0.15);\n",
              "      fill: #174EA6;\n",
              "    }\n",
              "\n",
              "    .colab-df-buttons div {\n",
              "      margin-bottom: 4px;\n",
              "    }\n",
              "\n",
              "    [theme=dark] .colab-df-convert {\n",
              "      background-color: #3B4455;\n",
              "      fill: #D2E3FC;\n",
              "    }\n",
              "\n",
              "    [theme=dark] .colab-df-convert:hover {\n",
              "      background-color: #434B5C;\n",
              "      box-shadow: 0px 1px 3px 1px rgba(0, 0, 0, 0.15);\n",
              "      filter: drop-shadow(0px 1px 2px rgba(0, 0, 0, 0.3));\n",
              "      fill: #FFFFFF;\n",
              "    }\n",
              "  </style>\n",
              "\n",
              "    <script>\n",
              "      const buttonEl =\n",
              "        document.querySelector('#df-d16b2e90-8f63-4cc2-9f0f-3b5b1e3d3885 button.colab-df-convert');\n",
              "      buttonEl.style.display =\n",
              "        google.colab.kernel.accessAllowed ? 'block' : 'none';\n",
              "\n",
              "      async function convertToInteractive(key) {\n",
              "        const element = document.querySelector('#df-d16b2e90-8f63-4cc2-9f0f-3b5b1e3d3885');\n",
              "        const dataTable =\n",
              "          await google.colab.kernel.invokeFunction('convertToInteractive',\n",
              "                                                    [key], {});\n",
              "        if (!dataTable) return;\n",
              "\n",
              "        const docLinkHtml = 'Like what you see? Visit the ' +\n",
              "          '<a target=\"_blank\" href=https://colab.research.google.com/notebooks/data_table.ipynb>data table notebook</a>'\n",
              "          + ' to learn more about interactive tables.';\n",
              "        element.innerHTML = '';\n",
              "        dataTable['output_type'] = 'display_data';\n",
              "        await google.colab.output.renderOutput(dataTable, element);\n",
              "        const docLink = document.createElement('div');\n",
              "        docLink.innerHTML = docLinkHtml;\n",
              "        element.appendChild(docLink);\n",
              "      }\n",
              "    </script>\n",
              "  </div>\n",
              "\n",
              "\n",
              "<div id=\"df-d8de5e3b-6f7b-4f70-b654-70d9ec24e93f\">\n",
              "  <button class=\"colab-df-quickchart\" onclick=\"quickchart('df-d8de5e3b-6f7b-4f70-b654-70d9ec24e93f')\"\n",
              "            title=\"Suggest charts\"\n",
              "            style=\"display:none;\">\n",
              "\n",
              "<svg xmlns=\"http://www.w3.org/2000/svg\" height=\"24px\"viewBox=\"0 0 24 24\"\n",
              "     width=\"24px\">\n",
              "    <g>\n",
              "        <path d=\"M19 3H5c-1.1 0-2 .9-2 2v14c0 1.1.9 2 2 2h14c1.1 0 2-.9 2-2V5c0-1.1-.9-2-2-2zM9 17H7v-7h2v7zm4 0h-2V7h2v10zm4 0h-2v-4h2v4z\"/>\n",
              "    </g>\n",
              "</svg>\n",
              "  </button>\n",
              "\n",
              "<style>\n",
              "  .colab-df-quickchart {\n",
              "      --bg-color: #E8F0FE;\n",
              "      --fill-color: #1967D2;\n",
              "      --hover-bg-color: #E2EBFA;\n",
              "      --hover-fill-color: #174EA6;\n",
              "      --disabled-fill-color: #AAA;\n",
              "      --disabled-bg-color: #DDD;\n",
              "  }\n",
              "\n",
              "  [theme=dark] .colab-df-quickchart {\n",
              "      --bg-color: #3B4455;\n",
              "      --fill-color: #D2E3FC;\n",
              "      --hover-bg-color: #434B5C;\n",
              "      --hover-fill-color: #FFFFFF;\n",
              "      --disabled-bg-color: #3B4455;\n",
              "      --disabled-fill-color: #666;\n",
              "  }\n",
              "\n",
              "  .colab-df-quickchart {\n",
              "    background-color: var(--bg-color);\n",
              "    border: none;\n",
              "    border-radius: 50%;\n",
              "    cursor: pointer;\n",
              "    display: none;\n",
              "    fill: var(--fill-color);\n",
              "    height: 32px;\n",
              "    padding: 0;\n",
              "    width: 32px;\n",
              "  }\n",
              "\n",
              "  .colab-df-quickchart:hover {\n",
              "    background-color: var(--hover-bg-color);\n",
              "    box-shadow: 0 1px 2px rgba(60, 64, 67, 0.3), 0 1px 3px 1px rgba(60, 64, 67, 0.15);\n",
              "    fill: var(--button-hover-fill-color);\n",
              "  }\n",
              "\n",
              "  .colab-df-quickchart-complete:disabled,\n",
              "  .colab-df-quickchart-complete:disabled:hover {\n",
              "    background-color: var(--disabled-bg-color);\n",
              "    fill: var(--disabled-fill-color);\n",
              "    box-shadow: none;\n",
              "  }\n",
              "\n",
              "  .colab-df-spinner {\n",
              "    border: 2px solid var(--fill-color);\n",
              "    border-color: transparent;\n",
              "    border-bottom-color: var(--fill-color);\n",
              "    animation:\n",
              "      spin 1s steps(1) infinite;\n",
              "  }\n",
              "\n",
              "  @keyframes spin {\n",
              "    0% {\n",
              "      border-color: transparent;\n",
              "      border-bottom-color: var(--fill-color);\n",
              "      border-left-color: var(--fill-color);\n",
              "    }\n",
              "    20% {\n",
              "      border-color: transparent;\n",
              "      border-left-color: var(--fill-color);\n",
              "      border-top-color: var(--fill-color);\n",
              "    }\n",
              "    30% {\n",
              "      border-color: transparent;\n",
              "      border-left-color: var(--fill-color);\n",
              "      border-top-color: var(--fill-color);\n",
              "      border-right-color: var(--fill-color);\n",
              "    }\n",
              "    40% {\n",
              "      border-color: transparent;\n",
              "      border-right-color: var(--fill-color);\n",
              "      border-top-color: var(--fill-color);\n",
              "    }\n",
              "    60% {\n",
              "      border-color: transparent;\n",
              "      border-right-color: var(--fill-color);\n",
              "    }\n",
              "    80% {\n",
              "      border-color: transparent;\n",
              "      border-right-color: var(--fill-color);\n",
              "      border-bottom-color: var(--fill-color);\n",
              "    }\n",
              "    90% {\n",
              "      border-color: transparent;\n",
              "      border-bottom-color: var(--fill-color);\n",
              "    }\n",
              "  }\n",
              "</style>\n",
              "\n",
              "  <script>\n",
              "    async function quickchart(key) {\n",
              "      const quickchartButtonEl =\n",
              "        document.querySelector('#' + key + ' button');\n",
              "      quickchartButtonEl.disabled = true;  // To prevent multiple clicks.\n",
              "      quickchartButtonEl.classList.add('colab-df-spinner');\n",
              "      try {\n",
              "        const charts = await google.colab.kernel.invokeFunction(\n",
              "            'suggestCharts', [key], {});\n",
              "      } catch (error) {\n",
              "        console.error('Error during call to suggestCharts:', error);\n",
              "      }\n",
              "      quickchartButtonEl.classList.remove('colab-df-spinner');\n",
              "      quickchartButtonEl.classList.add('colab-df-quickchart-complete');\n",
              "    }\n",
              "    (() => {\n",
              "      let quickchartButtonEl =\n",
              "        document.querySelector('#df-d8de5e3b-6f7b-4f70-b654-70d9ec24e93f button');\n",
              "      quickchartButtonEl.style.display =\n",
              "        google.colab.kernel.accessAllowed ? 'block' : 'none';\n",
              "    })();\n",
              "  </script>\n",
              "</div>\n",
              "\n",
              "    </div>\n",
              "  </div>\n"
            ],
            "application/vnd.google.colaboratory.intrinsic+json": {
              "type": "dataframe",
              "variable_name": "df",
              "summary": "{\n  \"name\": \"df\",\n  \"rows\": 50,\n  \"fields\": [\n    {\n      \"column\": \"T\\u00edtulo\",\n      \"properties\": {\n        \"dtype\": \"string\",\n        \"num_unique_values\": 50,\n        \"samples\": [\n          \"Notebook Lenovo Ideapad 1i Intel Core I3 - 1215u, 4gb Ram, 256gb Ssd, Windows 11 Home, Tela 15.6'' - 82vy000tbr Cor Cinza\",\n          \"Notebook Ultra Intel Core I5 8gb Ram 256gb Ssd 14 Pol -ul154 Cor Preto\",\n          \"Notebook Positivo Vision I15 Core I5 11th, 16gb 512gb Ssd, Lumina Bar, Tela 15  Full Hd Antirreflexo, Linux - Cinza\"\n        ],\n        \"semantic_type\": \"\",\n        \"description\": \"\"\n      }\n    },\n    {\n      \"column\": \"Pre\\u00e7o (R$)\",\n      \"properties\": {\n        \"dtype\": \"number\",\n        \"std\": 1498.8646694082715,\n        \"min\": 1199.0,\n        \"max\": 8299.0,\n        \"num_unique_values\": 49,\n        \"samples\": [\n          2184.99,\n          1298.57,\n          2699.0\n        ],\n        \"semantic_type\": \"\",\n        \"description\": \"\"\n      }\n    },\n    {\n      \"column\": \"Link\",\n      \"properties\": {\n        \"dtype\": \"string\",\n        \"num_unique_values\": 50,\n        \"samples\": [\n          \"https://www.mercadolivre.com.br/notebook-lenovo-ideapad-1i-intel-core-i3-1215u-4gb-ram-256gb-ssd-windows-11-home-tela-156-82vy000tbr-cor-cinza/p/MLB28131253#wid=MLB3828691151&sid=unknown\",\n          \"https://www.mercadolivre.com.br/notebook-ultra-intel-core-i5-8gb-ram-256gb-ssd-14-pol-ul154-cor-preto/p/MLB29670928#wid=MLB3895722217&sid=unknown\",\n          \"https://www.mercadolivre.com.br/notebook-positivo-vision-i15-core-i5-11th-16gb-512gb-ssd-lumina-bar-tela-15-full-hd-antirreflexo-linux-cinza/p/MLB29760552#wid=MLB4758193910&sid=unknown\"\n        ],\n        \"semantic_type\": \"\",\n        \"description\": \"\"\n      }\n    },\n    {\n      \"column\": \"Condi\\u00e7\\u00e3o\",\n      \"properties\": {\n        \"dtype\": \"category\",\n        \"num_unique_values\": 1,\n        \"samples\": [\n          \"new\"\n        ],\n        \"semantic_type\": \"\",\n        \"description\": \"\"\n      }\n    },\n    {\n      \"column\": \"Categoria\",\n      \"properties\": {\n        \"dtype\": \"category\",\n        \"num_unique_values\": 1,\n        \"samples\": [\n          \"MLB1652\"\n        ],\n        \"semantic_type\": \"\",\n        \"description\": \"\"\n      }\n    }\n  ]\n}"
            }
          },
          "metadata": {},
          "execution_count": 12
        }
      ]
    },
    {
      "cell_type": "code",
      "source": [
        "df.info()"
      ],
      "metadata": {
        "id": "6fc2_yofxYqL",
        "outputId": "754ccb2f-dc41-4bc6-afd8-6c4f053ad639",
        "colab": {
          "base_uri": "https://localhost:8080/"
        }
      },
      "execution_count": null,
      "outputs": [
        {
          "output_type": "stream",
          "name": "stdout",
          "text": [
            "<class 'pandas.core.frame.DataFrame'>\n",
            "RangeIndex: 50 entries, 0 to 49\n",
            "Data columns (total 5 columns):\n",
            " #   Column      Non-Null Count  Dtype  \n",
            "---  ------      --------------  -----  \n",
            " 0   Título      50 non-null     object \n",
            " 1   Preço (R$)  50 non-null     float64\n",
            " 2   Link        50 non-null     object \n",
            " 3   Condição    50 non-null     object \n",
            " 4   Categoria   50 non-null     object \n",
            "dtypes: float64(1), object(4)\n",
            "memory usage: 2.1+ KB\n"
          ]
        }
      ]
    }
  ]
}