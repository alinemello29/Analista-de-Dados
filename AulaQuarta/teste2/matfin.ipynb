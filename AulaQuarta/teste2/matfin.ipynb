{
  "nbformat": 4,
  "nbformat_minor": 0,
  "metadata": {
    "colab": {
      "provenance": []
    },
    "kernelspec": {
      "name": "python3",
      "display_name": "Python 3"
    },
    "language_info": {
      "name": "python"
    }
  },
  "cells": [
    {
      "cell_type": "code",
      "execution_count": 1,
      "metadata": {
        "id": "zJXARJbi_UMK"
      },
      "outputs": [],
      "source": [
        "def vf():\n",
        "  vp = float(input('Informe o valor do empréstimo em R$: '))\n",
        "  i = (float(input('Informe a taxa em formato %: ')))/100\n",
        "  n = int(input('Informe o tempo do empréstimo: '))\n",
        "  vf = vp * (1+i)**n\n",
        "  return vf\n",
        "\n",
        "def vp():\n",
        "  vf = float(input('Informe o valor futuro em R$: '))\n",
        "  i = (float(input('Informe a taxa em formato %: ')))/100\n",
        "  n = int(input('Informe o tempo do empréstimo: '))\n",
        "  vp = vf /((1+i)**n)\n",
        "  return vp\n",
        "\n",
        "def i():\n",
        "  vp = float(input('Informe o valor do empréstimo em R$: '))\n",
        "  vf = float(input('Informe o valor futuro em R$: '))\n",
        "  n = int(input('Informe o tempo do empréstimo: '))\n",
        "  i = (((vf/vp)**(1/n))-1)*100\n",
        "  return i\n",
        "\n",
        "def pmt():\n",
        "  i = (float(input('Informe a taxa em formato %: ')))/100\n",
        "  vp = float(input('Informe o valor do empréstimo em R$: '))\n",
        "  n = int(input('Informe o tempo do empréstimo: '))\n",
        "  pmt = vp * ((((1+i)**n)*i)/(((1+i)**n) - 1))\n",
        "  return pmt"
      ]
    }
  ]
}