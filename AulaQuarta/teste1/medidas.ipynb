{
  "nbformat": 4,
  "nbformat_minor": 0,
  "metadata": {
    "colab": {
      "provenance": []
    },
    "kernelspec": {
      "name": "python3",
      "display_name": "Python 3"
    },
    "language_info": {
      "name": "python"
    }
  },
  "cells": [
    {
      "cell_type": "code",
      "execution_count": 1,
      "metadata": {
        "id": "ORH_gGmppx4q"
      },
      "outputs": [],
      "source": [
        "def media(n1, n2):\n",
        "  media = (n1 +n2) / 2\n",
        "  return media\n",
        "\n",
        "def imc(peso, altura):\n",
        "  imc = peso/altura**2\n",
        "  return imc"
      ]
    }
  ]
}