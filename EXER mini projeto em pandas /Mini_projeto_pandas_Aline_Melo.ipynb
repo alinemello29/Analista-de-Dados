{
  "nbformat": 4,
  "nbformat_minor": 0,
  "metadata": {
    "colab": {
      "provenance": []
    },
    "kernelspec": {
      "name": "python3",
      "display_name": "Python 3"
    },
    "language_info": {
      "name": "python"
    }
  },
  "cells": [
    {
      "cell_type": "code",
      "source": [
        "import pandas as pd"
      ],
      "metadata": {
        "id": "s-ZC4H2bzAiD"
      },
      "execution_count": null,
      "outputs": []
    },
    {
      "cell_type": "code",
      "source": [
        "df = pd.read_csv('https://docs.google.com/spreadsheets/d/e/2PACX-1vSpCW9yMoUMQ4tknj5Lg_TYVfIC3P9KoVPPqlJKsBu2HzGaC579yCp9Ohxni2ncY-xyLfugXan9K6yf/pub?gid=636707205&single=true&output=csv')\n",
        "display(df.head(2))"
      ],
      "metadata": {
        "colab": {
          "base_uri": "https://localhost:8080/",
          "height": 112
        },
        "id": "aGIhWlFFzDmp",
        "outputId": "b60dee41-9de0-4387-8705-b2f60a0b405d"
      },
      "execution_count": null,
      "outputs": [
        {
          "output_type": "display_data",
          "data": {
            "text/plain": [
              "   ID      Nome  Idade  Salário     Cargo Departamento Data de Contratação  \\\n",
              "0   1      Juan   42.0  9276.79  Florista   Financeiro          2024-03-01   \n",
              "1   2  Isabelly   65.0      NaN       NaN    Operações          2023-04-04   \n",
              "\n",
              "   Avaliação de Desempenho  \n",
              "0                      3.6  \n",
              "1                      6.3  "
            ],
            "text/html": [
              "\n",
              "  <div id=\"df-2653a56c-29a5-4707-b34c-3ba9a4ce5141\" class=\"colab-df-container\">\n",
              "    <div>\n",
              "<style scoped>\n",
              "    .dataframe tbody tr th:only-of-type {\n",
              "        vertical-align: middle;\n",
              "    }\n",
              "\n",
              "    .dataframe tbody tr th {\n",
              "        vertical-align: top;\n",
              "    }\n",
              "\n",
              "    .dataframe thead th {\n",
              "        text-align: right;\n",
              "    }\n",
              "</style>\n",
              "<table border=\"1\" class=\"dataframe\">\n",
              "  <thead>\n",
              "    <tr style=\"text-align: right;\">\n",
              "      <th></th>\n",
              "      <th>ID</th>\n",
              "      <th>Nome</th>\n",
              "      <th>Idade</th>\n",
              "      <th>Salário</th>\n",
              "      <th>Cargo</th>\n",
              "      <th>Departamento</th>\n",
              "      <th>Data de Contratação</th>\n",
              "      <th>Avaliação de Desempenho</th>\n",
              "    </tr>\n",
              "  </thead>\n",
              "  <tbody>\n",
              "    <tr>\n",
              "      <th>0</th>\n",
              "      <td>1</td>\n",
              "      <td>Juan</td>\n",
              "      <td>42.0</td>\n",
              "      <td>9276.79</td>\n",
              "      <td>Florista</td>\n",
              "      <td>Financeiro</td>\n",
              "      <td>2024-03-01</td>\n",
              "      <td>3.6</td>\n",
              "    </tr>\n",
              "    <tr>\n",
              "      <th>1</th>\n",
              "      <td>2</td>\n",
              "      <td>Isabelly</td>\n",
              "      <td>65.0</td>\n",
              "      <td>NaN</td>\n",
              "      <td>NaN</td>\n",
              "      <td>Operações</td>\n",
              "      <td>2023-04-04</td>\n",
              "      <td>6.3</td>\n",
              "    </tr>\n",
              "  </tbody>\n",
              "</table>\n",
              "</div>\n",
              "    <div class=\"colab-df-buttons\">\n",
              "\n",
              "  <div class=\"colab-df-container\">\n",
              "    <button class=\"colab-df-convert\" onclick=\"convertToInteractive('df-2653a56c-29a5-4707-b34c-3ba9a4ce5141')\"\n",
              "            title=\"Convert this dataframe to an interactive table.\"\n",
              "            style=\"display:none;\">\n",
              "\n",
              "  <svg xmlns=\"http://www.w3.org/2000/svg\" height=\"24px\" viewBox=\"0 -960 960 960\">\n",
              "    <path d=\"M120-120v-720h720v720H120Zm60-500h600v-160H180v160Zm220 220h160v-160H400v160Zm0 220h160v-160H400v160ZM180-400h160v-160H180v160Zm440 0h160v-160H620v160ZM180-180h160v-160H180v160Zm440 0h160v-160H620v160Z\"/>\n",
              "  </svg>\n",
              "    </button>\n",
              "\n",
              "  <style>\n",
              "    .colab-df-container {\n",
              "      display:flex;\n",
              "      gap: 12px;\n",
              "    }\n",
              "\n",
              "    .colab-df-convert {\n",
              "      background-color: #E8F0FE;\n",
              "      border: none;\n",
              "      border-radius: 50%;\n",
              "      cursor: pointer;\n",
              "      display: none;\n",
              "      fill: #1967D2;\n",
              "      height: 32px;\n",
              "      padding: 0 0 0 0;\n",
              "      width: 32px;\n",
              "    }\n",
              "\n",
              "    .colab-df-convert:hover {\n",
              "      background-color: #E2EBFA;\n",
              "      box-shadow: 0px 1px 2px rgba(60, 64, 67, 0.3), 0px 1px 3px 1px rgba(60, 64, 67, 0.15);\n",
              "      fill: #174EA6;\n",
              "    }\n",
              "\n",
              "    .colab-df-buttons div {\n",
              "      margin-bottom: 4px;\n",
              "    }\n",
              "\n",
              "    [theme=dark] .colab-df-convert {\n",
              "      background-color: #3B4455;\n",
              "      fill: #D2E3FC;\n",
              "    }\n",
              "\n",
              "    [theme=dark] .colab-df-convert:hover {\n",
              "      background-color: #434B5C;\n",
              "      box-shadow: 0px 1px 3px 1px rgba(0, 0, 0, 0.15);\n",
              "      filter: drop-shadow(0px 1px 2px rgba(0, 0, 0, 0.3));\n",
              "      fill: #FFFFFF;\n",
              "    }\n",
              "  </style>\n",
              "\n",
              "    <script>\n",
              "      const buttonEl =\n",
              "        document.querySelector('#df-2653a56c-29a5-4707-b34c-3ba9a4ce5141 button.colab-df-convert');\n",
              "      buttonEl.style.display =\n",
              "        google.colab.kernel.accessAllowed ? 'block' : 'none';\n",
              "\n",
              "      async function convertToInteractive(key) {\n",
              "        const element = document.querySelector('#df-2653a56c-29a5-4707-b34c-3ba9a4ce5141');\n",
              "        const dataTable =\n",
              "          await google.colab.kernel.invokeFunction('convertToInteractive',\n",
              "                                                    [key], {});\n",
              "        if (!dataTable) return;\n",
              "\n",
              "        const docLinkHtml = 'Like what you see? Visit the ' +\n",
              "          '<a target=\"_blank\" href=https://colab.research.google.com/notebooks/data_table.ipynb>data table notebook</a>'\n",
              "          + ' to learn more about interactive tables.';\n",
              "        element.innerHTML = '';\n",
              "        dataTable['output_type'] = 'display_data';\n",
              "        await google.colab.output.renderOutput(dataTable, element);\n",
              "        const docLink = document.createElement('div');\n",
              "        docLink.innerHTML = docLinkHtml;\n",
              "        element.appendChild(docLink);\n",
              "      }\n",
              "    </script>\n",
              "  </div>\n",
              "\n",
              "\n",
              "<div id=\"df-a23ddf90-e469-4af8-b3d9-69ca4e252782\">\n",
              "  <button class=\"colab-df-quickchart\" onclick=\"quickchart('df-a23ddf90-e469-4af8-b3d9-69ca4e252782')\"\n",
              "            title=\"Suggest charts\"\n",
              "            style=\"display:none;\">\n",
              "\n",
              "<svg xmlns=\"http://www.w3.org/2000/svg\" height=\"24px\"viewBox=\"0 0 24 24\"\n",
              "     width=\"24px\">\n",
              "    <g>\n",
              "        <path d=\"M19 3H5c-1.1 0-2 .9-2 2v14c0 1.1.9 2 2 2h14c1.1 0 2-.9 2-2V5c0-1.1-.9-2-2-2zM9 17H7v-7h2v7zm4 0h-2V7h2v10zm4 0h-2v-4h2v4z\"/>\n",
              "    </g>\n",
              "</svg>\n",
              "  </button>\n",
              "\n",
              "<style>\n",
              "  .colab-df-quickchart {\n",
              "      --bg-color: #E8F0FE;\n",
              "      --fill-color: #1967D2;\n",
              "      --hover-bg-color: #E2EBFA;\n",
              "      --hover-fill-color: #174EA6;\n",
              "      --disabled-fill-color: #AAA;\n",
              "      --disabled-bg-color: #DDD;\n",
              "  }\n",
              "\n",
              "  [theme=dark] .colab-df-quickchart {\n",
              "      --bg-color: #3B4455;\n",
              "      --fill-color: #D2E3FC;\n",
              "      --hover-bg-color: #434B5C;\n",
              "      --hover-fill-color: #FFFFFF;\n",
              "      --disabled-bg-color: #3B4455;\n",
              "      --disabled-fill-color: #666;\n",
              "  }\n",
              "\n",
              "  .colab-df-quickchart {\n",
              "    background-color: var(--bg-color);\n",
              "    border: none;\n",
              "    border-radius: 50%;\n",
              "    cursor: pointer;\n",
              "    display: none;\n",
              "    fill: var(--fill-color);\n",
              "    height: 32px;\n",
              "    padding: 0;\n",
              "    width: 32px;\n",
              "  }\n",
              "\n",
              "  .colab-df-quickchart:hover {\n",
              "    background-color: var(--hover-bg-color);\n",
              "    box-shadow: 0 1px 2px rgba(60, 64, 67, 0.3), 0 1px 3px 1px rgba(60, 64, 67, 0.15);\n",
              "    fill: var(--button-hover-fill-color);\n",
              "  }\n",
              "\n",
              "  .colab-df-quickchart-complete:disabled,\n",
              "  .colab-df-quickchart-complete:disabled:hover {\n",
              "    background-color: var(--disabled-bg-color);\n",
              "    fill: var(--disabled-fill-color);\n",
              "    box-shadow: none;\n",
              "  }\n",
              "\n",
              "  .colab-df-spinner {\n",
              "    border: 2px solid var(--fill-color);\n",
              "    border-color: transparent;\n",
              "    border-bottom-color: var(--fill-color);\n",
              "    animation:\n",
              "      spin 1s steps(1) infinite;\n",
              "  }\n",
              "\n",
              "  @keyframes spin {\n",
              "    0% {\n",
              "      border-color: transparent;\n",
              "      border-bottom-color: var(--fill-color);\n",
              "      border-left-color: var(--fill-color);\n",
              "    }\n",
              "    20% {\n",
              "      border-color: transparent;\n",
              "      border-left-color: var(--fill-color);\n",
              "      border-top-color: var(--fill-color);\n",
              "    }\n",
              "    30% {\n",
              "      border-color: transparent;\n",
              "      border-left-color: var(--fill-color);\n",
              "      border-top-color: var(--fill-color);\n",
              "      border-right-color: var(--fill-color);\n",
              "    }\n",
              "    40% {\n",
              "      border-color: transparent;\n",
              "      border-right-color: var(--fill-color);\n",
              "      border-top-color: var(--fill-color);\n",
              "    }\n",
              "    60% {\n",
              "      border-color: transparent;\n",
              "      border-right-color: var(--fill-color);\n",
              "    }\n",
              "    80% {\n",
              "      border-color: transparent;\n",
              "      border-right-color: var(--fill-color);\n",
              "      border-bottom-color: var(--fill-color);\n",
              "    }\n",
              "    90% {\n",
              "      border-color: transparent;\n",
              "      border-bottom-color: var(--fill-color);\n",
              "    }\n",
              "  }\n",
              "</style>\n",
              "\n",
              "  <script>\n",
              "    async function quickchart(key) {\n",
              "      const quickchartButtonEl =\n",
              "        document.querySelector('#' + key + ' button');\n",
              "      quickchartButtonEl.disabled = true;  // To prevent multiple clicks.\n",
              "      quickchartButtonEl.classList.add('colab-df-spinner');\n",
              "      try {\n",
              "        const charts = await google.colab.kernel.invokeFunction(\n",
              "            'suggestCharts', [key], {});\n",
              "      } catch (error) {\n",
              "        console.error('Error during call to suggestCharts:', error);\n",
              "      }\n",
              "      quickchartButtonEl.classList.remove('colab-df-spinner');\n",
              "      quickchartButtonEl.classList.add('colab-df-quickchart-complete');\n",
              "    }\n",
              "    (() => {\n",
              "      let quickchartButtonEl =\n",
              "        document.querySelector('#df-a23ddf90-e469-4af8-b3d9-69ca4e252782 button');\n",
              "      quickchartButtonEl.style.display =\n",
              "        google.colab.kernel.accessAllowed ? 'block' : 'none';\n",
              "    })();\n",
              "  </script>\n",
              "</div>\n",
              "\n",
              "    </div>\n",
              "  </div>\n"
            ],
            "application/vnd.google.colaboratory.intrinsic+json": {
              "type": "dataframe",
              "summary": "{\n  \"name\": \"display(df\",\n  \"rows\": 2,\n  \"fields\": [\n    {\n      \"column\": \"ID\",\n      \"properties\": {\n        \"dtype\": \"number\",\n        \"std\": 0,\n        \"min\": 1,\n        \"max\": 2,\n        \"num_unique_values\": 2,\n        \"samples\": [\n          2,\n          1\n        ],\n        \"semantic_type\": \"\",\n        \"description\": \"\"\n      }\n    },\n    {\n      \"column\": \"Nome\",\n      \"properties\": {\n        \"dtype\": \"string\",\n        \"num_unique_values\": 2,\n        \"samples\": [\n          \"Isabelly\",\n          \"Juan\"\n        ],\n        \"semantic_type\": \"\",\n        \"description\": \"\"\n      }\n    },\n    {\n      \"column\": \"Idade\",\n      \"properties\": {\n        \"dtype\": \"number\",\n        \"std\": 16.263455967290593,\n        \"min\": 42.0,\n        \"max\": 65.0,\n        \"num_unique_values\": 2,\n        \"samples\": [\n          65.0,\n          42.0\n        ],\n        \"semantic_type\": \"\",\n        \"description\": \"\"\n      }\n    },\n    {\n      \"column\": \"Sal\\u00e1rio\",\n      \"properties\": {\n        \"dtype\": \"number\",\n        \"std\": null,\n        \"min\": 9276.79,\n        \"max\": 9276.79,\n        \"num_unique_values\": 1,\n        \"samples\": [\n          9276.79\n        ],\n        \"semantic_type\": \"\",\n        \"description\": \"\"\n      }\n    },\n    {\n      \"column\": \"Cargo\",\n      \"properties\": {\n        \"dtype\": \"string\",\n        \"num_unique_values\": 1,\n        \"samples\": [\n          \"Florista\"\n        ],\n        \"semantic_type\": \"\",\n        \"description\": \"\"\n      }\n    },\n    {\n      \"column\": \"Departamento\",\n      \"properties\": {\n        \"dtype\": \"string\",\n        \"num_unique_values\": 2,\n        \"samples\": [\n          \"Opera\\u00e7\\u00f5es\"\n        ],\n        \"semantic_type\": \"\",\n        \"description\": \"\"\n      }\n    },\n    {\n      \"column\": \"Data de Contrata\\u00e7\\u00e3o\",\n      \"properties\": {\n        \"dtype\": \"object\",\n        \"num_unique_values\": 2,\n        \"samples\": [\n          \"2023-04-04\"\n        ],\n        \"semantic_type\": \"\",\n        \"description\": \"\"\n      }\n    },\n    {\n      \"column\": \"Avalia\\u00e7\\u00e3o de Desempenho\",\n      \"properties\": {\n        \"dtype\": \"number\",\n        \"std\": 1.909188309203678,\n        \"min\": 3.6,\n        \"max\": 6.3,\n        \"num_unique_values\": 2,\n        \"samples\": [\n          6.3\n        ],\n        \"semantic_type\": \"\",\n        \"description\": \"\"\n      }\n    }\n  ]\n}"
            }
          },
          "metadata": {}
        }
      ]
    },
    {
      "cell_type": "code",
      "execution_count": null,
      "metadata": {
        "id": "iaSrr7qFyXdC"
      },
      "outputs": [],
      "source": [
        "'''\n",
        "Você recebeu uma base de dados com informações de funcionários.\n",
        "Sua tarefa é responder às seguintes perguntas utilizando a biblioteca pandas:\n",
        "\n",
        "01 - Quantos registros existem na base de dados?\n",
        "02 - Quantos registros têm informações completas (sem valores ausentes)?\n",
        "03 - Substitua os valores ausentes na coluna \"Salário\" pela média dos salários\n",
        "      e exiba a nova média.\n",
        "04 - Substitua todos os valores \"TI\" na coluna \"Departamento\" por\n",
        "     \"Tecnologia da Informação\".\n",
        "05 - Qual é o salário mais alto e quem o recebe?\n",
        "06 - Quantos funcionários estão no departamento de Marketing?\n",
        "07 - Qual é a idade média dos funcionários por departamento?\n",
        "08 - Liste os cargos únicos presentes na base.\n",
        "09 - Crie uma nova coluna chamada \"Tempo na Empresa\" que calcula o tempo de\n",
        "     trabalho com base na data de contratação.\n",
        "10 - Liste os 5 funcionários com mais tempo de empresa.\n",
        "11 - Quantos funcionários têm desempenho avaliado acima de 8?\n",
        "12 - Qual é o salário total por departamento?\n",
        "13 - Liste os 5 funcionários mais jovens.\n",
        "14 - Existe algum registro sem salário? Liste-os.\n",
        "15 - Utilize a função apply para criar uma nova coluna \"Categoria de Salário\",\n",
        "     classificando os funcionários como \"Baixo\" (salário < 3000), \"Médio\"\n",
        "     (3000 ≤ salário ≤ 7000) e \"Alto\" (salário > 7000).\n",
        "16 - Utilize a função map para criar uma nova coluna chamada\n",
        "     \"Desempenho Simplificado\", substituindo a \"Avaliação de Desempenho\" em\n",
        "     uma escala simples: \"Baixo\" (1-3), \"Médio\" (4-7) e \"Alto\" (8-10).\n",
        "17 - Utilize uma função lambda para criar uma nova coluna \"Idade em 5 Anos\",\n",
        "     que adiciona 5 anos à idade atual dos funcionários.\n",
        "18 - Quantos funcionários estão na categoria de salário \"Alto\"?\n",
        "19 - Use dropna para excluir registros com valores ausentes e salve o\n",
        "     DataFrame limpo em um novo arquivo CSV.\n",
        "20 - Faça o casting da coluna \"Avaliação de Desempenho\" para o tipo inteiro e\n",
        "     exiba o DataFrame.\n",
        "'''"
      ]
    },
    {
      "cell_type": "code",
      "source": [
        "# 01 - Quantos registros existem na base de dados?\n",
        "total_registros = df.shape[0]\n",
        "print(f'Total de registros: {total_registros}')"
      ],
      "metadata": {
        "colab": {
          "base_uri": "https://localhost:8080/"
        },
        "id": "kBIb0GX61YaY",
        "outputId": "6c5253e2-96c3-47c1-f3ac-cb46d09606be"
      },
      "execution_count": null,
      "outputs": [
        {
          "output_type": "stream",
          "name": "stdout",
          "text": [
            "Total de registros: 50\n"
          ]
        }
      ]
    },
    {
      "cell_type": "code",
      "source": [
        "# 02 - Quantos registros têm informações completas (sem valores ausentes)?\n",
        "registros_completos = df.dropna().shape[0]\n",
        "print(f'Total de registros completos: {registros_completos}')"
      ],
      "metadata": {
        "colab": {
          "base_uri": "https://localhost:8080/"
        },
        "id": "TunkGbFa1hoE",
        "outputId": "6c42fe27-2fc0-4b8f-8908-b5c8d1d691ab"
      },
      "execution_count": null,
      "outputs": [
        {
          "output_type": "stream",
          "name": "stdout",
          "text": [
            "Total de registros completos: 29\n"
          ]
        }
      ]
    },
    {
      "cell_type": "code",
      "source": [
        "# 03 - Substitua os valores ausentes na coluna \"Salário\" pela média dos salários e exiba a nova média.\n",
        "media_salario = df['Salário'].mean()\n",
        "df['Salário'].fillna(media_salario, inplace=True)\n",
        "print(f'Nova média de salário: {df[\"Salário\"].mean()}')"
      ],
      "metadata": {
        "colab": {
          "base_uri": "https://localhost:8080/"
        },
        "id": "Tft_L7Bk1lvt",
        "outputId": "9ad92b6f-7530-4aed-cda6-819ce1c67c4e"
      },
      "execution_count": null,
      "outputs": [
        {
          "output_type": "stream",
          "name": "stdout",
          "text": [
            "Nova média de salário: 5865.925111111112\n"
          ]
        },
        {
          "output_type": "stream",
          "name": "stderr",
          "text": [
            "<ipython-input-5-665bb40d673d>:3: FutureWarning: A value is trying to be set on a copy of a DataFrame or Series through chained assignment using an inplace method.\n",
            "The behavior will change in pandas 3.0. This inplace method will never work because the intermediate object on which we are setting values always behaves as a copy.\n",
            "\n",
            "For example, when doing 'df[col].method(value, inplace=True)', try using 'df.method({col: value}, inplace=True)' or df[col] = df[col].method(value) instead, to perform the operation inplace on the original object.\n",
            "\n",
            "\n",
            "  df['Salário'].fillna(media_salario, inplace=True)\n"
          ]
        }
      ]
    },
    {
      "cell_type": "code",
      "source": [
        "# 04 - Substitua todos os valores \"TI\" na coluna \"Departamento\" por \"Tecnologia da Informação\".\n",
        "df['Departamento'].replace('TI', 'Tecnologia da Informação', inplace=True)"
      ],
      "metadata": {
        "colab": {
          "base_uri": "https://localhost:8080/"
        },
        "id": "ndSuLUZC1unk",
        "outputId": "01186f54-618e-4c9a-8e36-d0bd382a2249"
      },
      "execution_count": null,
      "outputs": [
        {
          "output_type": "stream",
          "name": "stderr",
          "text": [
            "<ipython-input-6-7d85d28a99e3>:2: FutureWarning: A value is trying to be set on a copy of a DataFrame or Series through chained assignment using an inplace method.\n",
            "The behavior will change in pandas 3.0. This inplace method will never work because the intermediate object on which we are setting values always behaves as a copy.\n",
            "\n",
            "For example, when doing 'df[col].method(value, inplace=True)', try using 'df.method({col: value}, inplace=True)' or df[col] = df[col].method(value) instead, to perform the operation inplace on the original object.\n",
            "\n",
            "\n",
            "  df['Departamento'].replace('TI', 'Tecnologia da Informação', inplace=True)\n"
          ]
        }
      ]
    },
    {
      "cell_type": "code",
      "source": [
        "# 05 - Qual é o salário mais alto e quem o recebe?\n",
        "salario_maximo = df['Salário'].max()\n",
        "funcionario_max_salarial = df[df['Salário'] == salario_maximo]['Nome'].values[0]\n",
        "print(f'Salário mais alto: {salario_maximo}, Recebido por: {funcionario_max_salarial}')"
      ],
      "metadata": {
        "colab": {
          "base_uri": "https://localhost:8080/"
        },
        "id": "0SpDfj3K13Q0",
        "outputId": "5940dc17-65b7-48c8-d5ea-e76a6e5fe3e7"
      },
      "execution_count": null,
      "outputs": [
        {
          "output_type": "stream",
          "name": "stdout",
          "text": [
            "Salário mais alto: 9911.71, Recebido por: João\n"
          ]
        }
      ]
    },
    {
      "cell_type": "code",
      "source": [
        "# 06 - Quantos funcionários estão no departamento de Marketing?\n",
        "num_marketing = df[df['Departamento'] == 'Marketing'].shape[0]\n",
        "print(f'Total de funcionários no departamento de Marketing: {num_marketing}')"
      ],
      "metadata": {
        "colab": {
          "base_uri": "https://localhost:8080/"
        },
        "id": "QrP88qqN16cK",
        "outputId": "ef7b4f45-8149-41b4-8013-30101786a61d"
      },
      "execution_count": null,
      "outputs": [
        {
          "output_type": "stream",
          "name": "stdout",
          "text": [
            "Total de funcionários no departamento de Marketing: 10\n"
          ]
        }
      ]
    },
    {
      "cell_type": "code",
      "source": [
        "# 07 - Qual é a idade média dos funcionários por departamento?\n",
        "idade_media_departamento = df.groupby('Departamento')['Idade'].mean()\n",
        "print(f'Idade média por departamento:\\n{idade_media_departamento}')"
      ],
      "metadata": {
        "colab": {
          "base_uri": "https://localhost:8080/"
        },
        "id": "X4F2c9PP2Aaa",
        "outputId": "4ec18471-7825-4aa3-c9ee-c11c0c81bb0d"
      },
      "execution_count": null,
      "outputs": [
        {
          "output_type": "stream",
          "name": "stdout",
          "text": [
            "Idade média por departamento:\n",
            "Departamento\n",
            "Financeiro                  47.500000\n",
            "Marketing                   41.555556\n",
            "Operações                   43.333333\n",
            "RH                          39.928571\n",
            "Tecnologia da Informação    44.857143\n",
            "Name: Idade, dtype: float64\n"
          ]
        }
      ]
    },
    {
      "cell_type": "code",
      "source": [
        "# 08 - Liste os cargos únicos presentes na base.\n",
        "cargos_unicos = df['Cargo'].unique()\n",
        "print(f'Cargos únicos: {cargos_unicos}')"
      ],
      "metadata": {
        "colab": {
          "base_uri": "https://localhost:8080/"
        },
        "id": "KgzCqI9y2Cpk",
        "outputId": "6ed86b3d-0c8a-47f4-b87b-1aaee5ed131d"
      },
      "execution_count": null,
      "outputs": [
        {
          "output_type": "stream",
          "name": "stdout",
          "text": [
            "Cargos únicos: ['Florista' nan 'Lutador de jiu-jitsu' 'DJ' 'Neurocirurgião'\n",
            " 'Ginecologista' 'Bedel' 'Lubrificador de máquinas' 'Jogador de futebol'\n",
            " 'Piloto de avião' 'Cameraman' 'Odontologista estético' 'Moldureiro'\n",
            " 'Dublador' 'Bioquímico' 'Traumatologista' 'Instrumentista musical'\n",
            " 'Cartunista' 'Tecnólogo em automação industrial' 'Balconista' 'Cantor'\n",
            " 'Cozinheira' 'Tecnólogo em rochas ornamentais' 'Taxista' 'Moleiro'\n",
            " 'Protético dentário' 'Pianista' 'Cinegrafista' 'Intérprete de Bíblias'\n",
            " 'Carnavalesco' 'Geógrafo' 'Empacotador' 'Ator' 'Imunologista'\n",
            " 'Quiropraxista' 'Ferroviário' 'Publicitário' 'Segurança particular'\n",
            " 'Comerciante' 'Artista de circo' 'Capitão' 'Jogador de handebol'\n",
            " 'Figurante' 'Telegrafista' 'Judoca' 'Ortoptista' 'Garçom']\n"
          ]
        }
      ]
    },
    {
      "cell_type": "code",
      "source": [
        "# 09 - Crie uma nova coluna chamada \"Tempo na Empresa\".\n",
        "df['Data de Contratação'] = pd.to_datetime(df['Data de Contratação'])\n",
        "df['Tempo na Empresa'] = (pd.to_datetime('today') - df['Data de Contratação']).dt.days"
      ],
      "metadata": {
        "id": "-9T3m6bK2K5I"
      },
      "execution_count": null,
      "outputs": []
    },
    {
      "cell_type": "code",
      "source": [
        "# 10 - Liste os 5 funcionários com mais tempo de empresa.\n",
        "funcionarios_mais_antigos = df.nlargest(5, 'Tempo na Empresa')[['Nome', 'Tempo na Empresa']]\n",
        "print(f'5 funcionários com mais tempo de empresa:\\n{funcionarios_mais_antigos}')"
      ],
      "metadata": {
        "colab": {
          "base_uri": "https://localhost:8080/"
        },
        "id": "uXEUmPlC2Qs0",
        "outputId": "bf9d1ba8-849d-448e-9aa9-c645f4d22b56"
      },
      "execution_count": null,
      "outputs": [
        {
          "output_type": "stream",
          "name": "stdout",
          "text": [
            "5 funcionários com mais tempo de empresa:\n",
            "        Nome  Tempo na Empresa\n",
            "48  Fernanda            1704.0\n",
            "5     Emilly            1645.0\n",
            "33   Sabrina            1643.0\n",
            "29     Alice            1631.0\n",
            "20     Isaac            1627.0\n"
          ]
        }
      ]
    },
    {
      "cell_type": "code",
      "source": [
        "# 11 - Quantos funcionários têm desempenho avaliado acima de 8?\n",
        "desempenho_acima_8 = df[df['Avaliação de Desempenho'] > 8].shape[0]\n",
        "print(f'Total de funcionários com desempenho acima de 8: {desempenho_acima_8}')"
      ],
      "metadata": {
        "colab": {
          "base_uri": "https://localhost:8080/"
        },
        "id": "VbDp06qs2T87",
        "outputId": "ac8d7fea-369f-426f-8b73-eafbae2947da"
      },
      "execution_count": null,
      "outputs": [
        {
          "output_type": "stream",
          "name": "stdout",
          "text": [
            "Total de funcionários com desempenho acima de 8: 12\n"
          ]
        }
      ]
    },
    {
      "cell_type": "code",
      "source": [
        "# 12 - Qual é o salário total por departamento?\n",
        "salario_total_departamento = df.groupby('Departamento')['Salário'].sum()\n",
        "print(f'Salário total por departamento:\\n{salario_total_departamento}')"
      ],
      "metadata": {
        "colab": {
          "base_uri": "https://localhost:8080/"
        },
        "id": "pfLQ05-g2X9v",
        "outputId": "b29555af-9414-47ae-d5f4-889aaf4e7795"
      },
      "execution_count": null,
      "outputs": [
        {
          "output_type": "stream",
          "name": "stdout",
          "text": [
            "Salário total por departamento:\n",
            "Departamento\n",
            "Financeiro                  42526.100000\n",
            "Marketing                   66885.370222\n",
            "Operações                   52666.850222\n",
            "RH                          79870.290000\n",
            "Tecnologia da Informação    42171.075111\n",
            "Name: Salário, dtype: float64\n"
          ]
        }
      ]
    },
    {
      "cell_type": "code",
      "source": [
        "# 12 - Qual é o salário total por departamento?\n",
        "salario_total_departamento = df.groupby('Departamento')['Salário'].sum()\n",
        "print(f'Salário total por departamento:\\n{salario_total_departamento}')"
      ],
      "metadata": {
        "colab": {
          "base_uri": "https://localhost:8080/"
        },
        "id": "7TmEEGir2bdy",
        "outputId": "e7d0d8d0-dfe7-488d-b927-4b66cf6a80fe"
      },
      "execution_count": null,
      "outputs": [
        {
          "output_type": "stream",
          "name": "stdout",
          "text": [
            "Salário total por departamento:\n",
            "Departamento\n",
            "Financeiro                  42526.100000\n",
            "Marketing                   66885.370222\n",
            "Operações                   52666.850222\n",
            "RH                          79870.290000\n",
            "Tecnologia da Informação    42171.075111\n",
            "Name: Salário, dtype: float64\n"
          ]
        }
      ]
    },
    {
      "cell_type": "code",
      "source": [
        "# 14 - Existe algum registro sem salário? Liste-os.\n",
        "sem_salario = df[df['Salário'].isna()]\n",
        "print(f'Registros sem salário:\\n{sem_salario}')"
      ],
      "metadata": {
        "colab": {
          "base_uri": "https://localhost:8080/"
        },
        "id": "nk9GzsDZ2fLX",
        "outputId": "9ca1af99-fc36-4b57-bba7-50f7f9b473c1"
      },
      "execution_count": null,
      "outputs": [
        {
          "output_type": "stream",
          "name": "stdout",
          "text": [
            "Registros sem salário:\n",
            "Empty DataFrame\n",
            "Columns: [ID, Nome, Idade, Salário, Cargo, Departamento, Data de Contratação, Avaliação de Desempenho, Tempo na Empresa]\n",
            "Index: []\n"
          ]
        }
      ]
    },
    {
      "cell_type": "code",
      "source": [
        "# 15 - Categorizar o salário.\n",
        "def categorizar_salario(salario):\n",
        "    if salario < 3000:\n",
        "        return 'Baixo'\n",
        "    elif salario <= 7000:\n",
        "        return 'Médio'\n",
        "    else:\n",
        "        return 'Alto'\n",
        "\n",
        "df['Categoria de Salário'] = df['Salário'].apply(categorizar_salario)"
      ],
      "metadata": {
        "id": "uHuIlZRF2jQo"
      },
      "execution_count": null,
      "outputs": []
    },
    {
      "cell_type": "code",
      "source": [
        "# 16 - Desempenho Simplificado.\n",
        "def desempenho_simplificado(avaliacao):\n",
        "    if 1 <= avaliacao <= 3:\n",
        "        return 'Baixo'\n",
        "    elif 4 <= avaliacao <= 7:\n",
        "        return 'Médio'\n",
        "    else:\n",
        "        return 'Alto'\n",
        "\n",
        "df['Desempenho Simplificado'] = df['Avaliação de Desempenho'].map(desempenho_simplificado)"
      ],
      "metadata": {
        "id": "gRuXO3Nd2nSl"
      },
      "execution_count": null,
      "outputs": []
    },
    {
      "cell_type": "code",
      "source": [
        "# 17 - Idade em 5 Anos.\n",
        "df['Idade em 5 Anos'] = df['Idade'] + 5"
      ],
      "metadata": {
        "id": "Z5Rfv09Z2qth"
      },
      "execution_count": null,
      "outputs": []
    },
    {
      "cell_type": "code",
      "source": [
        "# 18 - Quantos funcionários estão na categoria de salário \"Alto\"?\n",
        "num_alto_salario = df[df['Categoria de Salário'] == 'Alto'].shape[0]\n",
        "print(f'Total de funcionários na categoria de salário \"Alto\": {num_alto_salario}')"
      ],
      "metadata": {
        "colab": {
          "base_uri": "https://localhost:8080/"
        },
        "id": "YjDFd2pD2vHv",
        "outputId": "be548d64-4744-4e10-ed18-58d7dfe5c717"
      },
      "execution_count": null,
      "outputs": [
        {
          "output_type": "stream",
          "name": "stdout",
          "text": [
            "Total de funcionários na categoria de salário \"Alto\": 14\n"
          ]
        }
      ]
    },
    {
      "cell_type": "code",
      "source": [
        "# 19 - Excluir registros com valores ausentes e salvar em novo CSV.\n",
        "df_limpo = df.dropna()\n",
        "df_limpo.to_csv('funcionarios_limpos.csv', index=False)"
      ],
      "metadata": {
        "id": "G4zkgE3o2yPA"
      },
      "execution_count": null,
      "outputs": []
    },
    {
      "cell_type": "code",
      "source": [
        "# 20 - Casting da coluna \"Avaliação de Desempenho\" para o tipo inteiro.\n",
        "df['Avaliação de Desempenho'] = df['Avaliação de Desempenho'].astype(int)\n",
        "print(df.head())"
      ],
      "metadata": {
        "colab": {
          "base_uri": "https://localhost:8080/"
        },
        "id": "tY4_A3x-22D-",
        "outputId": "ee8f1e2b-e5df-4b2c-c9f3-8f8cb96ad046"
      },
      "execution_count": null,
      "outputs": [
        {
          "output_type": "stream",
          "name": "stdout",
          "text": [
            "   ID          Nome  Idade      Salário                 Cargo Departamento  \\\n",
            "0   1          Juan   42.0  9276.790000              Florista   Financeiro   \n",
            "1   2      Isabelly   65.0  5865.925111                   NaN    Operações   \n",
            "2   3          Cauê   35.0  3692.610000  Lutador de jiu-jitsu          NaN   \n",
            "3   4          Theo   34.0  2092.810000                    DJ    Operações   \n",
            "4   5  Pedro Miguel   47.0  5944.170000        Neurocirurgião           RH   \n",
            "\n",
            "  Data de Contratação  Avaliação de Desempenho  Tempo na Empresa  \\\n",
            "0          2024-03-01                        3             272.0   \n",
            "1          2023-04-04                        6             604.0   \n",
            "2          2022-07-28                        5             854.0   \n",
            "3                 NaT                        1               NaN   \n",
            "4          2024-06-06                        6             175.0   \n",
            "\n",
            "  Categoria de Salário Desempenho Simplificado  Idade em 5 Anos  \n",
            "0                 Alto                    Alto             47.0  \n",
            "1                Médio                   Médio             70.0  \n",
            "2                Médio                   Médio             40.0  \n",
            "3                Baixo                   Baixo             39.0  \n",
            "4                Médio                   Médio             52.0  \n"
          ]
        }
      ]
    }
  ]
}