{
  "nbformat": 4,
  "nbformat_minor": 0,
  "metadata": {
    "colab": {
      "provenance": []
    },
    "kernelspec": {
      "name": "python3",
      "display_name": "Python 3"
    },
    "language_info": {
      "name": "python"
    }
  },
  "cells": [
    {
      "cell_type": "code",
      "source": [
        "import pandas as pd\n",
        "import numpy as np"
      ],
      "metadata": {
        "id": "PwZBgeY0h19S"
      },
      "execution_count": null,
      "outputs": []
    },
    {
      "cell_type": "code",
      "source": [
        "url = 'https://docs.google.com/spreadsheets/d/1q64TPaErzCYgXX6Exp1hopq_L2JnRT3j/export?format=csv'\n",
        "df = pd.read_csv(url)"
      ],
      "metadata": {
        "id": "t03xEyNsh4Pz"
      },
      "execution_count": null,
      "outputs": []
    },
    {
      "cell_type": "code",
      "source": [
        "print(\"Dados da Planilha:\")\n",
        "print(df.head())"
      ],
      "metadata": {
        "colab": {
          "base_uri": "https://localhost:8080/"
        },
        "id": "uj_6sZMMkPUC",
        "outputId": "919a7cab-1639-482f-954b-b7831b6f49d6"
      },
      "execution_count": null,
      "outputs": [
        {
          "output_type": "stream",
          "name": "stdout",
          "text": [
            "Dados da Planilha:\n",
            "     Nome do Atributo                                        Significado  \\\n",
            "0               Idade                                              Idade   \n",
            "1            Demissão  Pediu demissão (SIM - saiu da empresa) (NÃO - ...   \n",
            "2  Viagem de negócios          Frequência que o funcionário pela empresa   \n",
            "3   Diárias recebidas          Diárias recebidas pelos funcionários (R$)   \n",
            "4        Departamento                    Departamento que está vinculado   \n",
            "\n",
            "  Unnamed: 2 Unnamed: 3 Unnamed: 4 Unnamed: 5 Unnamed: 6  \n",
            "0        NaN        NaN        NaN        NaN        NaN  \n",
            "1        NaN        NaN        NaN        NaN        NaN  \n",
            "2        NaN        NaN        NaN        NaN        NaN  \n",
            "3        NaN        NaN        NaN        NaN        NaN  \n",
            "4        NaN        NaN        NaN        NaN        NaN  \n"
          ]
        }
      ]
    },
    {
      "cell_type": "code",
      "source": [
        "print(\"\\nNomes das Colunas:\")\n",
        "print(df.columns)"
      ],
      "metadata": {
        "colab": {
          "base_uri": "https://localhost:8080/"
        },
        "id": "jpbBTsz-kRDw",
        "outputId": "5ea565d3-b3ea-464d-a464-c149bb7f703c"
      },
      "execution_count": null,
      "outputs": [
        {
          "output_type": "stream",
          "name": "stdout",
          "text": [
            "\n",
            "Nomes das Colunas:\n",
            "Index(['Nome do Atributo', 'Significado', 'Unnamed: 2', 'Unnamed: 3',\n",
            "       'Unnamed: 4', 'Unnamed: 5', 'Unnamed: 6'],\n",
            "      dtype='object')\n"
          ]
        }
      ]
    },
    {
      "cell_type": "code",
      "source": [
        "df.columns = df.columns.str.strip()"
      ],
      "metadata": {
        "id": "JrDOpcXAkVxi"
      },
      "execution_count": null,
      "outputs": []
    },
    {
      "cell_type": "code",
      "source": [
        "if 'Demissão' in df.columns:\n",
        "    # Separar os dados em dois grupos: os que pediram demissão e os que não pediram\n",
        "    demitidos = df[df['Demissão'] == 'SIM']\n",
        "    nao_demitidos = df[df['Demissão'] == 'NÃO']\n",
        "else:\n",
        "    print(\"A coluna 'Demissão' não foi encontrada. Verifique os nomes das colunas.\")"
      ],
      "metadata": {
        "colab": {
          "base_uri": "https://localhost:8080/"
        },
        "id": "6n-gHxB9kXyR",
        "outputId": "61d6c2c0-cee8-47ee-c636-1abdda499062"
      },
      "execution_count": null,
      "outputs": [
        {
          "output_type": "stream",
          "name": "stdout",
          "text": [
            "A coluna 'Demissão' não foi encontrada. Verifique os nomes das colunas.\n"
          ]
        }
      ]
    },
    {
      "cell_type": "code",
      "source": [
        "variaveis_quantitativas = [\n",
        "    'Idade',\n",
        "    'Diárias recebidas',\n",
        "    'Distância de Casa',\n",
        "    'Salário por hora',\n",
        "    'Renda mensal',\n",
        "    'Salário Mensal',\n",
        "    'percentual de aumento de salário',\n",
        "    'score de performance',\n",
        "    'Total de anos trabalhados',\n",
        "    'Anos trabalhados na função atual',\n",
        "    'Anos desde a última promoção',\n",
        "    'Anos trabalhando com o atual gestor'\n",
        "]"
      ],
      "metadata": {
        "id": "ExCkW-UEkel2"
      },
      "execution_count": null,
      "outputs": []
    },
    {
      "cell_type": "code",
      "source": [
        "def calcular_medidas_descritivas(df, variaveis):\n",
        "    medidas = {}\n",
        "    for var in variaveis:\n",
        "        if var in df.columns:\n",
        "            medidas[var] = {\n",
        "                'Média': np.mean(df[var]),\n",
        "                'Mediana': np.median(df[var]),\n",
        "                'Desvio Padrão': np.std(df[var]),\n",
        "                'Mínimo': np.min(df[var]),\n",
        "                'Máximo': np.max(df[var])\n",
        "            }\n",
        "    return pd.DataFrame(medidas)"
      ],
      "metadata": {
        "id": "ZpswzXdhkmJQ"
      },
      "execution_count": null,
      "outputs": []
    },
    {
      "cell_type": "code",
      "source": [
        "if 'Demissão' in df.columns:\n",
        "    medidas_demitidos = calcular_medidas_descritivas(demitidos, variaveis_quantitativas)\n",
        "    medidas_nao_demitidos = calcular_medidas_descritivas(nao_demitidos, variaveis_quantitativas)\n",
        "\n",
        "    print(\"\\nMedidas Descritivas - Funcionários que Pediram Demissão\")\n",
        "    print(medidas_demitidos)\n",
        "\n",
        "    print(\"\\nMedidas Descritivas - Funcionários que Não Pediram Demissão\")\n",
        "    print(medidas_nao_demitidos)"
      ],
      "metadata": {
        "id": "YTZSJWW5kqIB"
      },
      "execution_count": null,
      "outputs": []
    }
  ]
}